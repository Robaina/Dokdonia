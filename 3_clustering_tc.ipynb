{
 "cells": [
  {
   "cell_type": "code",
   "execution_count": null,
   "metadata": {},
   "outputs": [],
   "source": [
    "import os\n",
    "from pathlib import Path\n",
    "\n",
    "import pandas as pd\n",
    "import numpy as np\n",
    "from matplotlib import pyplot as plt\n",
    "import seaborn as sns\n",
    "\n",
    "from dokdonia import differentialexpression as DE\n",
    "from dokdonia import visualization as VI\n",
    "from dokdonia import clusteranalysis as CA\n",
    "from dokdonia.pathway import KEGGPathwayParser, GenomeGBK, add_pathways_to_deseq_df, show_pathways_in_ranked_genes\n",
    "from dokdonia.utils import take_average_values, saveToPickleFile, readFromPickleFile\n",
    "\n",
    "%matplotlib inline\n",
    "\n",
    "\n",
    "root_dir = Path(os.getcwd())\n",
    "results_dir = root_dir / \"results\"\n",
    "data_dir = root_dir / \"data\""
   ]
  },
  {
   "cell_type": "markdown",
   "metadata": {},
   "source": [
    "## Load counts"
   ]
  },
  {
   "cell_type": "code",
   "execution_count": null,
   "metadata": {},
   "outputs": [],
   "source": [
    "min_count = 10\n",
    "\n",
    "counts = pd.read_csv(data_dir / 'counts' / 'DokdoniaCounts.csv', index_col=0)\n",
    "counts = counts[counts.filter(regex='^[^T]+$').columns]\n",
    "conditions = [name.split('.sam')[0] for name in counts.columns]\n",
    "counts.columns = conditions\n",
    "counts = counts[(counts > min_count).all(1)]\n",
    "counts.reset_index(level=0, inplace=True)"
   ]
  },
  {
   "cell_type": "markdown",
   "metadata": {},
   "source": [
    "## Load KEGG pathways and genome annotations"
   ]
  },
  {
   "cell_type": "code",
   "execution_count": null,
   "metadata": {},
   "outputs": [],
   "source": [
    "gbk = GenomeGBK(data_dir / 'genome' / 'DokdoniaMED134.gbk')\n",
    "\n",
    "KEGGparser = KEGGPathwayParser.fromKEGGidentifier('dok', only_curated_pathways=True)\n",
    "gene_pathways, gene_systems = KEGGparser.getGenePathways()\n",
    "system_pathways = KEGGparser.getSystemPathways()\n",
    "# gene_info = KEGGparser.getGeneInfoFromKEGGorthology()\n",
    "gene_list = list(gene_pathways.keys())\n",
    "print(f'There are a total of {len(gene_list)} genes')"
   ]
  },
  {
   "cell_type": "markdown",
   "metadata": {},
   "source": [
    "## Compute Transcript / cell values"
   ]
  },
  {
   "cell_type": "code",
   "execution_count": null,
   "metadata": {},
   "outputs": [],
   "source": [
    "sample_meta = pd.read_excel(data_dir / \"normalization\" / \"Datos_Dokdonia_9Jun23.xlsx\")\n",
    "sample_meta[\"Sample\"] = sample_meta['Light/Dark'] + '_' + sample_meta['Temperature'].astype(str) + '_' + sample_meta['Replicate']\n",
    "sample_meta.head()"
   ]
  },
  {
   "cell_type": "code",
   "execution_count": null,
   "metadata": {},
   "outputs": [],
   "source": [
    "TC = DE.get_transcript_cell(counts, sample_meta, [\"D_25_R1\"]).set_index(\"index\")\n",
    "TC.to_csv(data_dir / \"processed\" / \"DokdoniaMED134_TC.tsv\", sep=\"\\t\")\n",
    "TC.head()"
   ]
  },
  {
   "cell_type": "markdown",
   "metadata": {},
   "source": [
    "## Remove Light/Dark DE genes from datasets"
   ]
  },
  {
   "cell_type": "code",
   "execution_count": null,
   "metadata": {},
   "outputs": [],
   "source": [
    "DE_all_T = readFromPickleFile(results_dir / \"deseq_results\" / \"DE_all_T.pkl\")\n",
    "DE_genes_across_T = readFromPickleFile(results_dir / \"deseq_results\" / \"DE_genes_across_T.pkl\")\n",
    "\n",
    "\n",
    "# Remove light-dark DE genes from TC dataset\n",
    "TCnoDE = TC.loc[(\n",
    "    (~TC.index.isin(DE_all_T))\n",
    "    )]"
   ]
  },
  {
   "cell_type": "markdown",
   "metadata": {},
   "source": [
    "# Find clusters based on expression pattern across temperatures: transcript / cell"
   ]
  },
  {
   "cell_type": "code",
   "execution_count": null,
   "metadata": {},
   "outputs": [],
   "source": [
    "# Using Transcripts/cell\n",
    "clust_tightness = 3\n",
    "res_id = 'CLUSTER_ONLY_TEMP_DE_GENES_NEW_TRANSCRIPT_CELL_ZSCORES'\n",
    "workdir = os.path.join(os.getcwd(), data_dir / 'clust_input')\n",
    "outdir = os.path.join(os.getcwd(), results_dir / 'clust' / res_id)\n",
    "\n",
    "clusters_TCZ = CA.getGeneClusters(TCnoDE,path_to_wd=workdir, \n",
    "                              out_dir=outdir,\n",
    "                              cluster_tightness=clust_tightness,\n",
    "                              normalization_file='clust_normalization_only_zscores.txt',\n",
    "                              replicates_file='clust_replicates_merged_L_D_volume.txt',\n",
    "                              scaling_factor=1e5)\n",
    "\n",
    "# Plot clusters\n",
    "plot_cluster_data_TCZ = pd.read_csv(os.path.join(\n",
    "    os.getcwd(),results_dir / \"clust\" / f'{res_id}/Processed_Data/clust_input.tsv_processed.tsv'),\n",
    "    sep='\\t', index_col='Genes')\n",
    "\n",
    "# VI.plotClusters(plot_cluster_data_TCZ, clusters_TCZ)"
   ]
  },
  {
   "cell_type": "markdown",
   "metadata": {},
   "source": [
    "## Merge clusters\n",
    "\n",
    "Merge into 3 groups. Also add a new cluster formed by the genes that correlate negatively with temperature."
   ]
  },
  {
   "cell_type": "code",
   "execution_count": null,
   "metadata": {},
   "outputs": [],
   "source": [
    "clusters_TCZ = {\n",
    "    \"C0\": clusters_TCZ[\"C0\"] + clusters_TCZ[\"C1\"],\n",
    "    \"C1\": clusters_TCZ[\"C2\"] + clusters_TCZ[\"C3\"],\n",
    "    \"C2\": clusters_TCZ[\"C4\"]\n",
    "}\n",
    "\n",
    "# Merge clusters in Clust output file\n",
    "df = pd.DataFrame(dict([ (k,pd.Series(v)) for k,v in clusters_TCZ.items() ]))\n",
    "df = df.applymap(lambda x: \"\" if pd.isna(x) else x)\n",
    "\n",
    "with open(results_dir / \"clust\" / f\"{res_id}/Clusters_Objects_merged.tsv\", \"w+\") as file:\n",
    "    file.write(\"\\t\".join([f\"{k} ({len(v)} genes)\" for k,v in clusters_TCZ.items()]) + \"\\n\")\n",
    "    file.write(\"\\t\".join([\"Genes\" for _ in clusters_TCZ]) + \"\\n\")\n",
    "\n",
    "    for row in df.values:\n",
    "        file.write(\"\\t\".join(row) + \"\\n\")\n",
    "\n",
    "n_genes_in_clusters = sum([len(c) for c in clusters_TCZ.values()])\n",
    "print(f\"There are a total of {n_genes_in_clusters} clustered genes\")\n",
    "\n",
    "# Save figure data\n",
    "saveToPickleFile(clusters_TCZ, results_dir / \"figures\" / \"figure_data\" / \"clusters_TCZ.pkl\")\n",
    "saveToPickleFile(plot_cluster_data_TCZ, results_dir / \"figures\" / \"figure_data\" / \"plot_cluster_data_TCZ.pkl\")\n",
    "\n",
    "VI.plotClusters(plot_cluster_data_TCZ, clusters_TCZ)"
   ]
  },
  {
   "cell_type": "markdown",
   "metadata": {},
   "source": [
    "## Annotate and rank genes within clusters"
   ]
  },
  {
   "cell_type": "code",
   "execution_count": null,
   "metadata": {},
   "outputs": [],
   "source": [
    "res_id = \"CLUSTER_ONLY_TEMP_DE_GENES_NEW_TRANSCRIPT_CELL_ZSCORES\"\n",
    "\n",
    "cluster_data = (1 / 1e5) * pd.read_csv(os.path.join(\n",
    "    os.getcwd(),results_dir / \"clust\" / f'{res_id}/Input_files_and_params/Data/clust_input.tsv'),\n",
    "    sep='\\t', index_col='index')\n",
    "ranked_clusters_avg_expr = CA.rankGenesWithinClusters(clusters_TCZ, cluster_data, method=\"median\")\n",
    "\n",
    "\n",
    "if not (results_dir / \"pathways\").exists():\n",
    "   (results_dir / \"pathways\").mkdir(exist_ok=False)\n",
    "\n",
    "no_kegg_pathway = []\n",
    "ranked_clusters = []\n",
    "for cluster_id in ranked_clusters_avg_expr:\n",
    "    ranked_df = show_pathways_in_ranked_genes(\n",
    "        ranked_clusters_avg_expr[cluster_id],\n",
    "        gbk, gene_pathways,\n",
    "        gene_systems, n=None\n",
    "        )\n",
    "    no_kegg_pathway.append( 100 * (ranked_df[((ranked_df.subsystem.str.contains(\"Unspecified\")) & ~ ranked_df.subsystem.isna())].shape[0]) / ranked_df.shape[0] )\n",
    "    ranked_df.insert(0, \"cluster\", cluster_id)\n",
    "    ranked_df.to_csv(results_dir / \"pathways\" / f\"ranked_{cluster_id}_TCZ.csv\")\n",
    "    ranked_clusters.append(ranked_df)\n",
    "\n",
    "merged_ranked_clusters = pd.concat(ranked_clusters).sort_values(by=\"value\", ascending=False)\n",
    "merged_ranked_clusters.to_csv(results_dir / \"pathways\" / \"ranked_clusters_TCZ.csv\")\n",
    "print(no_kegg_pathway)\n",
    "print(np.mean(no_kegg_pathway))"
   ]
  }
 ],
 "metadata": {
  "language_info": {
   "name": "python"
  },
  "orig_nbformat": 4
 },
 "nbformat": 4,
 "nbformat_minor": 2
}
