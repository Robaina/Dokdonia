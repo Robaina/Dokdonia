{
 "cells": [
  {
   "cell_type": "code",
   "execution_count": null,
   "metadata": {},
   "outputs": [],
   "source": [
    "def tpmNormalize(counts, gene_lengths):\n",
    "    gene_lengths = {}\n",
    "    for gene_id in counts['index']:\n",
    "        try:\n",
    "            gene_lengths[gene_id] = patric.loc[patric['PATRIC ID'] == gene_id]['Length'].item()\n",
    "        except Exception:\n",
    "            gene_lengths[gene_id] = np.nan\n",
    "\n",
    "    rpk = counts.iloc[:, 1:].divide(list(gene_lengths.values()), axis=0)\n",
    "    tpm = rpk.divide(rpk.sum(axis=0).values / 1e6, axis=1)\n",
    "    tpm.insert(0, 'index', counts['index'])\n",
    "    return tpm\n",
    "\n",
    "\n"
   ]
  },
  {
   "cell_type": "code",
   "execution_count": null,
   "metadata": {},
   "outputs": [],
   "source": []
  }
 ],
 "metadata": {
  "kernelspec": {
   "display_name": "Python 3",
   "language": "python",
   "name": "python3"
  },
  "language_info": {
   "codemirror_mode": {
    "name": "ipython",
    "version": 3
   },
   "file_extension": ".py",
   "mimetype": "text/x-python",
   "name": "python",
   "nbconvert_exporter": "python",
   "pygments_lexer": "ipython3",
   "version": "3.7.4"
  }
 },
 "nbformat": 4,
 "nbformat_minor": 4
}
