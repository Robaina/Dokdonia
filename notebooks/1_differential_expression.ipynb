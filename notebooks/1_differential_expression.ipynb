{
 "cells": [
  {
   "cell_type": "code",
   "execution_count": 1,
   "metadata": {},
   "outputs": [],
   "source": [
    "import os\n",
    "from pathlib import Path\n",
    "from functools import reduce\n",
    "\n",
    "import pandas as pd\n",
    "import numpy as np\n",
    "\n",
    "from dokdonia import differentialexpression as DE\n",
    "from dokdonia.pathway import KEGGPathwayParser, GenomeGBK, add_pathways_to_deseq_df\n",
    "from dokdonia.utils import save_to_pickle_file\n",
    "\n",
    "%matplotlib inline\n",
    "\n",
    "\n",
    "root_dir = Path(os.getcwd()).parent\n",
    "results_dir = root_dir / \"results\"\n",
    "data_dir = root_dir / \"data\""
   ]
  },
  {
   "cell_type": "markdown",
   "metadata": {},
   "source": [
    "## Load counts"
   ]
  },
  {
   "cell_type": "code",
   "execution_count": 2,
   "metadata": {},
   "outputs": [],
   "source": [
    "min_count = 10\n",
    "\n",
    "counts = pd.read_csv(data_dir / 'counts' / 'DokdoniaCounts.csv', index_col=0)\n",
    "counts = counts[counts.filter(regex='^[^T]+$').columns]\n",
    "conditions = [name.split('.sam')[0] for name in counts.columns]\n",
    "counts.columns = conditions\n",
    "counts = counts[(counts > min_count).all(1)]\n",
    "counts.reset_index(level=0, inplace=True)\n",
    "# Remove columns: L_18_R2, D_18_R3 for fair comarison with TC data\n",
    "counts = counts.drop(columns=[\"L_18_R2\", \"D_18_R3\"])"
   ]
  },
  {
   "cell_type": "markdown",
   "metadata": {},
   "source": [
    "## Load KEGG pathways and genome annotations"
   ]
  },
  {
   "cell_type": "code",
   "execution_count": 3,
   "metadata": {},
   "outputs": [
    {
     "name": "stdout",
     "output_type": "stream",
     "text": [
      "There are a total of 781 genes\n"
     ]
    }
   ],
   "source": [
    "gbk = GenomeGBK(data_dir / 'genome' / 'DokdoniaMED134.gbk')\n",
    "\n",
    "KEGGparser = KEGGPathwayParser.fromKEGGidentifier('dok', only_curated_pathways=True)\n",
    "gene_pathways, gene_systems = KEGGparser.getGenePathways()\n",
    "system_pathways = KEGGparser.getSystemPathways()\n",
    "# gene_info = KEGGparser.getGeneInfoFromKEGGorthology()\n",
    "gene_list = list(gene_pathways.keys())\n",
    "print(f'There are a total of {len(gene_list)} genes')"
   ]
  },
  {
   "cell_type": "markdown",
   "metadata": {},
   "source": [
    "# Find DE genes"
   ]
  },
  {
   "cell_type": "code",
   "execution_count": 4,
   "metadata": {},
   "outputs": [
    {
     "data": {
      "image/png": "[encoded data removed]",
      "text/plain": [
       "<Figure size 1000x700 with 1 Axes>"
      ]
     },
     "metadata": {},
     "output_type": "display_data"
    }
   ],
   "source": [
    "p_value_cutoff = 1e-2\n",
    "fold_cutoff = k = 0.5\n",
    "\n",
    "# DE light vs dark across temperatures\n",
    "L_D_res, L_D_stats = {}, {}\n",
    "L_D_res['all'], L_D_stats['all'] = DE.runDEtest(counts, test='Wald', alpha=p_value_cutoff,\n",
    "                                                formula='~ lighting', log2fold_cutoff=k)\n",
    "# L vs D for each temperature\n",
    "for T in ['10', '18', '25', '34']:\n",
    "    counts_T = counts[counts.filter(regex=f'{T}|index').columns]    \n",
    "    L_D_res[T], L_D_stats[T] = DE.runDEtest(counts_T, test='Wald', alpha=p_value_cutoff,\n",
    "                                            formula='~ lighting', log2fold_cutoff=k)\n",
    "# Plot stats\n",
    "ax = pd.DataFrame(L_D_stats).drop(\"all\", axis=1).transpose().plot.bar(\n",
    "    stacked=True, title=f'L vs D ($|F|\\\\geq 0.5,\\\\alpha={p_value_cutoff}$)',\n",
    "    figsize=(10, 7), ylabel='number of DE genes', xlabel='temperature (ºC)',\n",
    "    rot=0, color=['C1', 'C0'], legend=False)"
   ]
  },
  {
   "cell_type": "code",
   "execution_count": 5,
   "metadata": {},
   "outputs": [
    {
     "name": "stderr",
     "output_type": "stream",
     "text": [
      "/tmp/ipykernel_29416/2723736133.py:23: FutureWarning: Passing 'suffixes' which cause duplicate columns {'product_x', 'subsystem_x', 'system_x'} in the result is deprecated and will raise a MergeError in a future version.\n",
      "  df_merged_L_D = reduce(lambda  left,right: pd.merge(left,right,left_index=True, right_index=True), data_L_D)\n",
      "/tmp/ipykernel_29416/2723736133.py:29: FutureWarning: Passing 'suffixes' which cause duplicate columns {'product_x', 'subsystem_x', 'system_x'} in the result is deprecated and will raise a MergeError in a future version.\n",
      "  df_merged_D_L = reduce(lambda  left,right: pd.merge(left,right,left_index=True, right_index=True), data_D_L)\n"
     ]
    }
   ],
   "source": [
    "DELD = {}\n",
    "for T, res in L_D_res.items():\n",
    "    DELD[T] = {\n",
    "        'L>D': add_pathways_to_deseq_df(\n",
    "            res.loc[res.log2FoldChange >= k].sort_values(by=\"log2FoldChange\", ascending=False),\n",
    "            gbk,\n",
    "            gene_pathways,\n",
    "            gene_systems\n",
    "        ),\n",
    "        'D>L': add_pathways_to_deseq_df(\n",
    "            res.loc[res.log2FoldChange <= -k].sort_values(by=\"log2FoldChange\", ascending=False),\n",
    "            gbk,\n",
    "            gene_pathways,\n",
    "            gene_systems\n",
    "        ),\n",
    "    }\n",
    "\n",
    "# Save to pickle\n",
    "save_to_pickle_file(DELD, results_dir / \"deseq_results\" / \"DELD.pkl\")\n",
    "\n",
    "# Find intersections\n",
    "data_L_D = [DELD[T][\"L>D\"][[\"product\", \"subsystem\", \"system\"]] for T in ['10', '18', '25', '34']]\n",
    "df_merged_L_D = reduce(lambda  left,right: pd.merge(left,right,left_index=True, right_index=True), data_L_D)\n",
    "# Remove duplicated cols\n",
    "df_merged_L_D = df_merged_L_D[[\"product_x\", \"subsystem_x\", \"system_x\"]]\n",
    "df_merged_L_D = df_merged_L_D.loc[:, ~df_merged_L_D.columns.duplicated()]\n",
    "# D - L\n",
    "data_D_L = [DELD[T][\"D>L\"][[\"product\", \"subsystem\", \"system\"]] for T in ['10', '18', '25', '34']]\n",
    "df_merged_D_L = reduce(lambda  left,right: pd.merge(left,right,left_index=True, right_index=True), data_D_L)\n",
    "# Remove duplicated cols\n",
    "df_merged_D_L = df_merged_D_L[[\"product_x\", \"subsystem_x\", \"system_x\"]]\n",
    "df_merged_D_L = df_merged_D_L.loc[:, ~df_merged_D_L.columns.duplicated()]\n",
    "\n",
    "# Write to Excel\n",
    "excel_out = results_dir / \"deseq_results\" / \"light_dark_deseq2.xlsx\"\n",
    "with pd.ExcelWriter(excel_out) as writer:  \n",
    "    for temp, cond_res in DELD.items():\n",
    "        for cond, df in cond_res.items():\n",
    "            if \"value\" in df.columns:\n",
    "                df = df.rename({\"value\": \"log2FoldChange\"}, axis=1)\n",
    "            df.to_excel(writer, sheet_name=f\"{temp}_{cond}\")\n",
    "\n",
    "\n",
    "    df_merged_L_D.to_excel(writer, sheet_name=\"common_genes_L>D\")\n",
    "    df_merged_D_L.to_excel(writer, sheet_name=\"common_genes_D>L\")"
   ]
  },
  {
   "cell_type": "markdown",
   "metadata": {},
   "source": [
    "# Effect of temperature on L-D DE genes\n",
    "How do DE genes across light and dark behave across temperatures?"
   ]
  },
  {
   "cell_type": "code",
   "execution_count": 6,
   "metadata": {},
   "outputs": [
    {
     "name": "stdout",
     "output_type": "stream",
     "text": [
      "There are a total of 75 DE genes between Light and Dark\n",
      "There a total of 7 Light/Dark DE genes across the entire T range\n"
     ]
    }
   ],
   "source": [
    "# Get light-dark DE genes at any temperature\n",
    "k = 0.5\n",
    "DE_all_T  = np.unique([g for g in L_D_res['all'][abs(L_D_res['all'].log2FoldChange) >= k].index]).tolist()\n",
    "DE_plus = np.unique([g for L_D_res in L_D_res.values() for g in L_D_res[L_D_res.log2FoldChange >= k].index]).tolist()\n",
    "DE_minus = np.unique([g for L_D_res in L_D_res.values() for g in L_D_res[L_D_res.log2FoldChange <= -k].index]).tolist()\n",
    "DE_total = DE_plus + DE_minus\n",
    "\n",
    "# Save to pickle file\n",
    "save_to_pickle_file(DE_all_T, results_dir / \"deseq_results\" / \"DE_all_T.pkl\")\n",
    "save_to_pickle_file(DE_plus, results_dir / \"deseq_results\" / \"DE_plus.pkl\")\n",
    "save_to_pickle_file(DE_minus, results_dir / \"deseq_results\" / \"DE_minus.pkl\")\n",
    "save_to_pickle_file(DE_total, results_dir / \"deseq_results\" / \"DE_total.pkl\")\n",
    "\n",
    "print(f'There are a total of {len(DE_total)} DE genes between Light and Dark')\n",
    "print(f'There a total of {len(DE_all_T)} Light/Dark DE genes across the entire T range')"
   ]
  },
  {
   "cell_type": "markdown",
   "metadata": {},
   "source": [
    "## DE on multiple comparisons across temperatures\n",
    "See https://hbctraining.github.io/DGE_workshop/lessons/08_DGE_LRT.html\n",
    "Fold changes here aren't meaningful."
   ]
  },
  {
   "cell_type": "code",
   "execution_count": 7,
   "metadata": {},
   "outputs": [
    {
     "data": {
      "image/png": "[encoded data removed]",
      "text/plain": [
       "<Figure size 1000x700 with 1 Axes>"
      ]
     },
     "metadata": {},
     "output_type": "display_data"
    }
   ],
   "source": [
    "# Do not discriminate between Light and Dark conditions\n",
    "T_res, T_stats = {}, {}\n",
    "T_res['all'], T_stats['all'] = DE.runDEtest(counts, test='LRT', alpha=p_value_cutoff,\n",
    "                                            formula='~ temperature', reduced_formula='~ 1')\n",
    "\n",
    "# Discriminate between Light and Dark conditions\n",
    "for L in ['L', 'D']:\n",
    "    counts_L = counts[counts.filter(regex=f'{L}|index').columns]    \n",
    "    T_res[L], T_stats[L] = DE.runDEtest(counts_L, test='LRT', alpha=p_value_cutoff,\n",
    "                                        formula='~ temperature', reduced_formula='~ 1')\n",
    "\n",
    "save_to_pickle_file(T_res, results_dir / \"deseq_results\" / \"DE_result.pkl\")\n",
    "\n",
    "# Plot stats\n",
    "ax = pd.DataFrame(T_stats).transpose().plot.bar(\n",
    "    stacked=True, title=f'T (ascending) ($\\\\alpha={p_value_cutoff}$)', figsize=(10, 7), rot=0)"
   ]
  },
  {
   "cell_type": "code",
   "execution_count": 8,
   "metadata": {},
   "outputs": [],
   "source": [
    "# Write to excel, add pathways\n",
    "excel_out = results_dir /\"deseq_results\" / \"across_temperature_deseq2.xlsx\"\n",
    "with pd.ExcelWriter(excel_out) as writer:\n",
    "\n",
    "    for cond, res in T_res.items():\n",
    "        res = add_pathways_to_deseq_df(\n",
    "            res,\n",
    "            gbk,\n",
    "            gene_pathways,\n",
    "            gene_systems\n",
    "            ).drop(\"log2FoldChange\", axis=1)\n",
    "        res.to_excel(writer, sheet_name=f\"{cond}\")"
   ]
  },
  {
   "cell_type": "code",
   "execution_count": 9,
   "metadata": {},
   "outputs": [
    {
     "name": "stdout",
     "output_type": "stream",
     "text": [
      "There are 1909 out of 2877 genes which are DE across all temperature values\n"
     ]
    }
   ],
   "source": [
    "# Find genes which are DE across the temperature range\n",
    "DE_genes_across_T = list(T_res[\"all\"].index)\n",
    "save_to_pickle_file(DE_genes_across_T, results_dir / \"deseq_results\" / \"DE_genes_across_T.pkl\")\n",
    "print(f\"There are {len(DE_genes_across_T)} out of {counts.shape[0]} genes which are DE across all temperature values\")"
   ]
  }
 ],
 "metadata": {
  "kernelspec": {
   "display_name": "dokdonia",
   "language": "python",
   "name": "python3"
  },
  "language_info": {
   "codemirror_mode": {
    "name": "ipython",
    "version": 3
   },
   "file_extension": ".py",
   "mimetype": "text/x-python",
   "name": "python",
   "nbconvert_exporter": "python",
   "pygments_lexer": "ipython3",
   "version": "3.9.15"
  },
  "orig_nbformat": 4
 },
 "nbformat": 4,
 "nbformat_minor": 2
}
