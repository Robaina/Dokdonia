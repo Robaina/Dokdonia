{
 "cells": [
  {
   "cell_type": "code",
   "execution_count": null,
   "metadata": {},
   "outputs": [],
   "source": [
    "import os\n",
    "from pathlib import Path\n",
    "\n",
    "import pandas as pd\n",
    "import numpy as np\n",
    "from matplotlib import pyplot as plt\n",
    "import seaborn as sns\n",
    "\n",
    "from dokdonia import differentialexpression as DE\n",
    "from dokdonia import visualization as VI\n",
    "from dokdonia import clusteranalysis as CA\n",
    "from dokdonia.pathway import KEGGPathwayParser, GenomeGBK, add_pathways_to_deseq_df, show_pathways_in_ranked_genes\n",
    "from dokdonia.utils import take_average_values, saveToPickleFile, readFromPickleFile\n",
    "\n",
    "%matplotlib inline\n",
    "\n",
    "\n",
    "root_dir = Path(os.getcwd())\n",
    "results_dir = root_dir / \"results\"\n",
    "data_dir = root_dir / \"data\""
   ]
  },
  {
   "cell_type": "markdown",
   "metadata": {},
   "source": [
    "## Load counts"
   ]
  },
  {
   "cell_type": "code",
   "execution_count": null,
   "metadata": {},
   "outputs": [],
   "source": [
    "min_count = 10\n",
    "\n",
    "counts = pd.read_csv(data_dir / 'counts' / 'DokdoniaCounts.csv', index_col=0)\n",
    "counts = counts[counts.filter(regex='^[^T]+$').columns]\n",
    "conditions = [name.split('.sam')[0] for name in counts.columns]\n",
    "counts.columns = conditions\n",
    "counts = counts[(counts > min_count).all(1)]\n",
    "counts.reset_index(level=0, inplace=True)"
   ]
  },
  {
   "cell_type": "markdown",
   "metadata": {},
   "source": [
    "## Load KEGG pathways and genome annotations"
   ]
  },
  {
   "cell_type": "code",
   "execution_count": null,
   "metadata": {},
   "outputs": [],
   "source": [
    "gbk = GenomeGBK(data_dir / 'genome' / 'DokdoniaMED134.gbk')\n",
    "\n",
    "KEGGparser = KEGGPathwayParser.fromKEGGidentifier('dok', only_curated_pathways=True)\n",
    "gene_pathways, gene_systems = KEGGparser.getGenePathways()\n",
    "system_pathways = KEGGparser.getSystemPathways()\n",
    "# gene_info = KEGGparser.getGeneInfoFromKEGGorthology()\n",
    "gene_list = list(gene_pathways.keys())\n",
    "print(f'There are a total of {len(gene_list)} genes')"
   ]
  },
  {
   "cell_type": "markdown",
   "metadata": {},
   "source": [
    "## Get DeSeq2 normalized counts"
   ]
  },
  {
   "cell_type": "code",
   "execution_count": null,
   "metadata": {},
   "outputs": [],
   "source": [
    "# Deseq2 normalization\n",
    "colfactor = pd.DataFrame(\n",
    "    {'Sample': counts.columns, 'Temperature': counts.columns.str.extract(r'_(\\d+)_', expand=False)}\n",
    "    ).iloc[1:, :].set_index('Sample', inplace=False)\n",
    "colfactor.head()\n",
    "\n",
    "deseq2_counts = DE.deseq2Normalize(counts, colfactor,\n",
    "                gene_column=\"index\",\n",
    "                design_formula=\"~ Temperature\")\n",
    "deseq2_counts.to_csv(data_dir / \"processed\" / \"DokdoniaMED134_DS2.tsv\", sep=\"\\t\", index=False)\n",
    "deseq2_counts.head()"
   ]
  },
  {
   "cell_type": "markdown",
   "metadata": {},
   "source": [
    "## Compute Transcript / cell values"
   ]
  },
  {
   "cell_type": "code",
   "execution_count": null,
   "metadata": {},
   "outputs": [],
   "source": [
    "sample_meta = pd.read_excel(data_dir / \"normalization\" / \"Datos_Dokdonia_9Jun23.xlsx\")\n",
    "sample_meta[\"Sample\"] = sample_meta['Light/Dark'] + '_' + sample_meta['Temperature'].astype(str) + '_' + sample_meta['Replicate']\n",
    "sample_meta.head()"
   ]
  },
  {
   "cell_type": "code",
   "execution_count": null,
   "metadata": {},
   "outputs": [],
   "source": [
    "TC = DE.get_transcript_cell(counts, sample_meta, [\"D_25_R1\"]).set_index(\"index\")\n",
    "TC.to_csv(data_dir / \"processed\" / \"DokdoniaMED134_TC.tsv\", sep=\"\\t\")\n",
    "TC.head()"
   ]
  },
  {
   "cell_type": "markdown",
   "metadata": {},
   "source": [
    "## Compare median values between counts, DeSeq2-normalized counts, and transcript / cell values"
   ]
  },
  {
   "cell_type": "code",
   "execution_count": null,
   "metadata": {},
   "outputs": [],
   "source": [
    "# Take median values across replicates\n",
    "counts_avg = take_average_values(counts.set_index(\"index\")).median()\n",
    "TC_avg = take_average_values(TC, method='median')\n",
    "DS2_avg = take_average_values(deseq2_counts.set_index(\"index\")).median()\n",
    "\n",
    "fig, axes = plt.subplots(nrows=1, ncols=3, figsize=(14, 6))\n",
    "\n",
    "ax0 = counts_avg.plot(kind='bar', ax=axes[0], title='Raw counts')\n",
    "ax0.set_xlabel('Temperature')\n",
    "ax0.set_ylabel('Median raw counts')\n",
    "\n",
    "ax1 = DS2_avg.plot(kind='bar', ax=axes[1], title='DeSeq2 normalized counts')\n",
    "ax1.set_xlabel('Temperature')\n",
    "ax1.set_ylabel('Median DeSeq2-norm counts')\n",
    "\n",
    "ax2 = TC_avg.median().plot(kind='bar', ax=axes[2], title='Transcripts/cell')\n",
    "ax2.set_xlabel('Temperature')\n",
    "ax2.set_ylabel('Median transcripts/cell')\n",
    "\n",
    "plt.tight_layout()\n",
    "plt.show()"
   ]
  },
  {
   "cell_type": "markdown",
   "metadata": {},
   "source": [
    "## Remove Light/Dark DE genes from datasets"
   ]
  },
  {
   "cell_type": "code",
   "execution_count": null,
   "metadata": {},
   "outputs": [],
   "source": [
    "DE_all_T = readFromPickleFile(results_dir / \"deseq_results\" / \"DE_all_T.pkl\")\n",
    "DE_genes_across_T = readFromPickleFile(results_dir / \"deseq_results\" / \"DE_genes_across_T.pkl\")\n",
    "\n",
    "# Remove light-dark DE genes from counts\n",
    "counts_noDE = counts.loc[(\n",
    "    (~counts[\"index\"].isin(DE_all_T))\n",
    "    )]\n",
    "\n",
    "# Remove light-dark DE genes from Deseq2 dataset\n",
    "deseq2_counts_noDE = deseq2_counts.loc[(\n",
    "    (~deseq2_counts[\"index\"].isin(DE_all_T))\n",
    "    )]\n",
    "\n",
    "# Remove light-dark DE genes from TC dataset\n",
    "TCnoDE = TC.loc[(\n",
    "    (~TC.index.isin(DE_all_T))\n",
    "    )]"
   ]
  },
  {
   "cell_type": "markdown",
   "metadata": {},
   "source": [
    "# Find clusters based on expression pattern across temperatures: DeSeq2-normalized counts"
   ]
  },
  {
   "cell_type": "code",
   "execution_count": null,
   "metadata": {},
   "outputs": [],
   "source": [
    "# Using Deseq2 data\n",
    "clust_tightness = 3\n",
    "res_id = 'CLUSTER_ONLY_TEMP_DE_GENES_DESEQ2_ZSCORES'\n",
    "workdir = os.path.join(os.getcwd(), data_dir / 'clust_input')\n",
    "outdir = os.path.join(os.getcwd(), results_dir / 'clust' / res_id)\n",
    "\n",
    "clusters_DS2Z = CA.getGeneClusters(deseq2_counts_noDE.set_index(\"index\"),path_to_wd=workdir, \n",
    "                              out_dir=outdir,\n",
    "                              cluster_tightness=clust_tightness,\n",
    "                              normalization_file='clust_normalization_only_zscores.txt',\n",
    "                              replicates_file='clust_replicates_merged_L_D_volume.txt',\n",
    "                              scaling_factor=1)\n",
    "\n",
    "# Plot clusters\n",
    "plot_cluster_data_DS2Z = pd.read_csv(os.path.join(\n",
    "    os.getcwd(),results_dir / \"clust\" / f'{res_id}/Processed_Data/clust_input.tsv_processed.tsv'),\n",
    "    sep='\\t', index_col='Genes')"
   ]
  },
  {
   "cell_type": "code",
   "execution_count": null,
   "metadata": {},
   "outputs": [],
   "source": [
    "# Print total number of genes contained in the sum of all clusters\n",
    "total_genes_in_clusters = [g for cluster in clusters_DS2Z.values() for g in cluster]\n",
    "print(f'Total number of genes in all clusters: {len(total_genes_in_clusters)}')\n",
    "# Print fraction of total genes in cluisters versus total number of genes\n",
    "print(f'Fraction of total genes in clusters: {len(total_genes_in_clusters) / len(plot_cluster_data_DS2Z)}')"
   ]
  },
  {
   "cell_type": "code",
   "execution_count": null,
   "metadata": {},
   "outputs": [],
   "source": [
    "# Rename clusters to group by pattern\n",
    "cluster_map = {\n",
    "    \"C0\": \"C0\",\n",
    "    \"C1\": \"C2\",\n",
    "    \"C2\": \"C3\",\n",
    "    \"C3\": \"C1\",\n",
    "    \"C4\": \"C4\"\n",
    "}\n",
    "\n",
    "clusters_DS2Z = {\n",
    "    cluster_map[cluster_id]: cluster\n",
    "    for cluster_id, cluster in clusters_DS2Z.items()\n",
    "    if cluster_id != \"C5\"\n",
    "}\n",
    "\n",
    "clusters_DS2Z = dict(sorted(clusters_DS2Z.items(), key=lambda x: x[0]))\n",
    "\n",
    "# Save figure data\n",
    "saveToPickleFile(clusters_DS2Z, results_dir / \"figures\" / \"figure_data\" / \"clusters_DS2Z.pkl\")\n",
    "saveToPickleFile(plot_cluster_data_DS2Z, results_dir / \"figures\" / \"figure_data\" / \"plot_cluster_data_DS2Z.pkl\")\n"
   ]
  },
  {
   "cell_type": "code",
   "execution_count": null,
   "metadata": {},
   "outputs": [],
   "source": [
    "VI.plotClusters(plot_cluster_data_DS2Z, clusters_DS2Z)"
   ]
  },
  {
   "cell_type": "markdown",
   "metadata": {},
   "source": [
    "## Find genes in clusters that are not DE according to the LRT test of Deseq2\n",
    "\n",
    "There are about 790 DE genes across temperatures according to LRT, alpha=0.01, but over 1200 within the clusters. What happens with the genes that are not DE according to LRT but are in the clusters and do follow non random patterns?"
   ]
  },
  {
   "cell_type": "code",
   "execution_count": null,
   "metadata": {},
   "outputs": [],
   "source": [
    "print(f\"There are {len(DE_genes_across_T)} genes that are differentially expressed across all temperatures.\")"
   ]
  },
  {
   "cell_type": "code",
   "execution_count": null,
   "metadata": {},
   "outputs": [],
   "source": [
    "# DE_genes_across_T\n",
    "clusters_DS2Z_noDE = {\n",
    "    cluster_id: [g for g in cluster if g not in DE_genes_across_T]\n",
    "    for cluster_id, cluster in clusters_DS2Z.items()\n",
    "}\n",
    "\n",
    "# Genes that are not DE across temperatures AND not included in any cluster\n",
    "not_in_clusters_and_no_DE = [\n",
    "    g for g in deseq2_counts_noDE.set_index(\"index\").index\n",
    "    if g not in DE_genes_across_T and g not in total_genes_in_clusters\n",
    "]\n",
    "\n",
    "print(f\"There are {len(not_in_clusters_and_no_DE)} genes that are not DE across temperatures AND not included in any cluster.\")"
   ]
  },
  {
   "cell_type": "markdown",
   "metadata": {},
   "source": [
    "## Plot genes that are included in clusters but are not DE across temperatures"
   ]
  },
  {
   "cell_type": "code",
   "execution_count": null,
   "metadata": {},
   "outputs": [],
   "source": [
    "VI.plotClusters(plot_cluster_data_DS2Z, clusters_DS2Z_noDE)"
   ]
  },
  {
   "cell_type": "markdown",
   "metadata": {},
   "source": [
    "## Annotate and rank genes within clusters"
   ]
  },
  {
   "cell_type": "code",
   "execution_count": null,
   "metadata": {},
   "outputs": [],
   "source": [
    "res_id = \"CLUSTER_ONLY_TEMP_DE_GENES_DESEQ2_ZSCORES\"\n",
    "\n",
    "cluster_data = pd.read_csv(os.path.join(\n",
    "    os.getcwd(),results_dir / \"clust\" / f'{res_id}/Input_files_and_params/Data/clust_input.tsv'),\n",
    "    sep='\\t', index_col='index')\n",
    "ranked_clusters_avg_expr = CA.rankGenesWithinClusters(clusters_DS2Z, cluster_data, method=\"median\")"
   ]
  },
  {
   "cell_type": "code",
   "execution_count": null,
   "metadata": {},
   "outputs": [],
   "source": [
    "if not (results_dir / \"pathways\").exists():\n",
    "   (results_dir / \"pathways\").mkdir(exist_ok=False)\n",
    "\n",
    "no_kegg_pathway = []\n",
    "ranked_clusters = []\n",
    "for cluster_id in ranked_clusters_avg_expr:\n",
    "    ranked_df = show_pathways_in_ranked_genes(\n",
    "        ranked_clusters_avg_expr[cluster_id],\n",
    "        gbk, gene_pathways,\n",
    "        gene_systems, n=None\n",
    "        )\n",
    "    no_kegg_pathway.append( 100 * (ranked_df[((ranked_df.subsystem.str.contains(\"Unspecified\")) & ~ ranked_df.subsystem.isna())].shape[0]) / ranked_df.shape[0] )\n",
    "    ranked_df.insert(0, \"cluster\", cluster_id)\n",
    "    ranked_df.to_csv(results_dir / \"pathways\" / f\"ranked_{cluster_id}.csv\")\n",
    "    ranked_clusters.append(ranked_df)\n",
    "\n",
    "merged_ranked_clusters = pd.concat(ranked_clusters).sort_values(by=\"value\", ascending=False)\n",
    "merged_ranked_clusters.to_csv(results_dir / \"pathways\" / \"ranked_clusters.csv\")\n",
    "print(no_kegg_pathway)\n",
    "print(np.mean(no_kegg_pathway))"
   ]
  },
  {
   "cell_type": "markdown",
   "metadata": {},
   "source": [
    "## Ranked lists among the global 10% by expression"
   ]
  },
  {
   "cell_type": "code",
   "execution_count": null,
   "metadata": {},
   "outputs": [],
   "source": [
    "percent_cutoff = 10\n",
    "\n",
    "filtered_ranked_clusters = {}\n",
    "\n",
    "all_genes_expression = {gene: expr for cluster in ranked_clusters_avg_expr.values() for gene, expr in cluster.items()}\n",
    "\n",
    "sorted_all_genes_expression = sorted(all_genes_expression.items(), key=lambda x:x[1], reverse=True)\n",
    "sorted_all_genes_expression = dict(sorted_all_genes_expression)\n",
    "\n",
    "cutoff_position = int( (10 / 100) * len(sorted_all_genes_expression) )\n",
    "cutoff_value = list(sorted_all_genes_expression.values())[cutoff_position]\n",
    "print(f\"Cutoff average expression value of: {cutoff_value} Deseq2 values\")\n",
    "top_genes = list(sorted_all_genes_expression.keys())[:cutoff_position]\n",
    "\n",
    "for cluster_id, cluster in ranked_clusters_avg_expr.items():\n",
    "    filtered_ranked_clusters[cluster_id] = {gene: expr for gene, expr in cluster.items() if gene in top_genes}"
   ]
  },
  {
   "cell_type": "code",
   "execution_count": null,
   "metadata": {},
   "outputs": [],
   "source": [
    "# Cluster IDs in the top 10% of genes\n",
    "top_10_ranked = merged_ranked_clusters.loc[merged_ranked_clusters.value > cutoff_value, :]\n",
    "top_10_ranked.cluster.value_counts()"
   ]
  },
  {
   "cell_type": "markdown",
   "metadata": {},
   "source": [
    "Genes in the top 10% by expression (DeSeq2-normalized) tend to located in clusters with a downward pattern, negativaly correlated with temperature (clusters C1 and C4.)"
   ]
  },
  {
   "cell_type": "markdown",
   "metadata": {},
   "source": [
    "## Rank temperature - independent genes and assign pathways"
   ]
  },
  {
   "cell_type": "code",
   "execution_count": null,
   "metadata": {},
   "outputs": [],
   "source": [
    "from dokdonia.utils import sort_dict_by_values\n",
    "\n",
    "deseq2_avg = take_average_values(deseq2_counts.set_index(\"index\"), method=\"median\")\n",
    "\n",
    "temp_indep_ranked_genes = {\n",
    "    gene_id: deseq2_avg.loc[gene_id].median()\n",
    "    for gene_id in not_in_clusters_and_no_DE\n",
    "}\n",
    "\n",
    "temp_indep_ranked_genes = sort_dict_by_values(temp_indep_ranked_genes, reverse=True)\n",
    "\n",
    "# Add pathways\n",
    "temp_indep_pathways = show_pathways_in_ranked_genes(\n",
    "    temp_indep_ranked_genes, gbk, gene_pathways, gene_systems, n=None\n",
    "    )\n",
    "\n",
    "# Save to csv in pathways folder\n",
    "temp_indep_pathways.to_csv(\n",
    "    results_dir / \"pathways\" / \"temp_indep_pathways.csv\"\n",
    "    )\n",
    "\n",
    "temp_indep_pathways.head()"
   ]
  },
  {
   "cell_type": "code",
   "execution_count": null,
   "metadata": {},
   "outputs": [],
   "source": [
    "temp_indep_pathways.loc[temp_indep_pathways.value > cutoff_value, \"system\"].value_counts()"
   ]
  },
  {
   "cell_type": "markdown",
   "metadata": {},
   "source": [
    "## Find fraction of unannotated genes in clusters\n",
    "\n",
    "As a side note, which fraciton of genes in Dokdonia MED134 are unannotated??"
   ]
  },
  {
   "cell_type": "code",
   "execution_count": null,
   "metadata": {},
   "outputs": [],
   "source": [
    "lines = [\"gene_id\\tgene_name\\tproduct\\tkegg_pathway\\n\"]\n",
    "for gene_id in counts[\"index\"]:   \n",
    "    gene_info = gbk.getGeneInfo(gene_id)\n",
    "    gene_name = gene_info[\"gene\"][0] if \"gene\" in gene_info else \"unspecified\"\n",
    "    product = gene_info[\"product\"][0]\n",
    "    kegg_pathway = \",\".join(gene_pathways[gene_id]) if gene_id in gene_pathways else \"unspecified\"\n",
    "    lines.append(\n",
    "        (\n",
    "            f\"{gene_id}\\t\"\n",
    "            f\"{gene_name}\\t\"\n",
    "            f\"{product}\\t\"\n",
    "            f\"{kegg_pathway}\\n\"\n",
    "            )\n",
    "        )\n",
    "with open(results_dir / \"pathways\" / \"gene_annotations.tsv\", \"w\") as file:\n",
    "    file.writelines(lines)\n",
    "\n",
    "\n",
    "annot = pd.read_csv(results_dir / \"pathways\" / \"gene_annotations.tsv\", sep=\"\\t\").set_index(\"gene_id\")\n",
    "\n",
    "print(f\"Fraction of genes with no KEGG annotation: {sum(annot.kegg_pathway == 'unspecified') / len(annot):.2%}\")\n",
    "print(f\"Fraction of genes with no product annotation: {sum(annot['product'] == 'hypothetical protein') / len(annot):.2%}\")\n",
    "print(f\"Fraction of genes with no gene name annotation: {sum(annot['gene_name'] == 'unspecified') / len(annot):.2%}\")\n",
    "\n",
    "kegg_cluster_repr = []\n",
    "for cluster_id, cluster_genes in clusters_DS2Z.items():\n",
    "    kegg_cluster_repr.append(\n",
    "        sum(annot.loc[cluster_genes].kegg_pathway == \"unspecified\") / len(cluster_genes)\n",
    "    )\n",
    "# Print average fraction of genes with no KEGG annotation per cluster\n",
    "print(f\"Average fraction of genes with no KEGG annotation per cluster: {np.mean(kegg_cluster_repr):.2%}\")\n"
   ]
  },
  {
   "cell_type": "markdown",
   "metadata": {},
   "source": [
    "## Enriched metabolic pathways in Deseq2 clusters"
   ]
  },
  {
   "cell_type": "code",
   "execution_count": null,
   "metadata": {},
   "outputs": [],
   "source": [
    "from dokdonia.utils import terminal_execute\n",
    "\n",
    "print(res_id)\n",
    "out_dir = results_dir / \"enrichment_results\"\n",
    "out_dir.mkdir(exist_ok=True)\n",
    "\n",
    "clusters_path = results_dir / \"clust\" / f\"{res_id}\" / \"Clusters_Objects.tsv\"\n",
    "stout = terminal_execute(\n",
    "    command_str=(\n",
    "    f\"Rscript {root_dir / 'dokdonia' / 'clusterProfiler.R'}\"\n",
    "    f\" {res_id} {clusters_path} {out_dir}\"\n",
    "    )\n",
    ")\n",
    "\n",
    "# Show enriched pathways\n",
    "enrichment_results = pd.read_csv(out_dir / f\"results_{res_id}.csv\")\n",
    "\n",
    "enrichment_results.Cluster = enrichment_results.Cluster.apply(lambda x: cluster_map[f\"C{int(list(x)[-1]) - 1}\"])\n",
    "enrichment_results.set_index(\"Cluster\", inplace=True)\n",
    "\n",
    "# Write to csv file\n",
    "enrichment_results.to_csv(out_dir / f\"results_{res_id}.csv\")\n",
    "enrichment_results.head()"
   ]
  }
 ],
 "metadata": {
  "language_info": {
   "name": "python"
  },
  "orig_nbformat": 4
 },
 "nbformat": 4,
 "nbformat_minor": 2
}
