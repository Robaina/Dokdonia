{
 "cells": [
  {
   "cell_type": "markdown",
   "metadata": {},
   "source": [
    "# Dokdonia"
   ]
  },
  {
   "cell_type": "code",
   "execution_count": 1,
   "metadata": {},
   "outputs": [
    {
     "data": {
      "text/plain": [
       "3302548"
      ]
     },
     "execution_count": 1,
     "metadata": {},
     "output_type": "execute_result"
    }
   ],
   "source": [
    "genome = with open('dokdonia.txt', 'r').read().replace('\\n', '')\n",
    "len(genome)"
   ]
  },
  {
   "cell_type": "code",
   "execution_count": 5,
   "metadata": {},
   "outputs": [
    {
     "data": {
      "text/plain": [
       "'CTGGAACGCTAATAGGAGAGGCTGTTGGGTATGCAGATTATTGGCAGAACTAATGTAGACTAATACATTTTAAAGGGCTTAATTACGCTTTCGCGAAAGC'"
      ]
     },
     "execution_count": 5,
     "metadata": {},
     "output_type": "execute_result"
    }
   ],
   "source": [
    "# 1369745\t1371199\t.\t+\t0\tgene_id \"MED134_01165\"\n",
    "gen_frag = genome[1371146:1371146+100] # This is gene_id \"MED134_01165\" why not counted??\n",
    "gen_frag"
   ]
  },
  {
   "cell_type": "code",
   "execution_count": 4,
   "metadata": {},
   "outputs": [
    {
     "data": {
      "text/plain": [
       "69"
      ]
     },
     "execution_count": 4,
     "metadata": {},
     "output_type": "execute_result"
    }
   ],
   "source": [
    "# Mapped fragment:\n",
    "read = 'ACTGGAACGCTAATAGGAGAGGCTGTTGGGTATGCAGATTATTGGCAGAACTAATGTAGACTAATACAT'\n",
    "len(read)"
   ]
  },
  {
   "cell_type": "code",
   "execution_count": 13,
   "metadata": {},
   "outputs": [
    {
     "name": "stdout",
     "output_type": "stream",
     "text": [
      "1371215\n"
     ]
    }
   ],
   "source": [
    "print(1371146 + len(read))"
   ]
  },
  {
   "cell_type": "markdown",
   "metadata": {},
   "source": [
    "Ok.. I perhaps begin to see the error, the GTF file indicates that gene: MED134_01165 is located within positions: (1369745, 1371199) in the genome. Now, the start position of the mapped read is: 1371146, and the read as a length of 69 nt, thus extending to position 1371215 which is outside of the region defined by the GTF file... Perhaps this is why the algorithm isn't count this read??\n",
    "\n",
    "Well, I altered the GTF file to extend the length of the gene and yet still got no counts for this gene... weird."
   ]
  },
  {
   "cell_type": "code",
   "execution_count": 14,
   "metadata": {},
   "outputs": [
    {
     "name": "stdout",
     "output_type": "stream",
     "text": [
      "The fragment extends outside of defined gene by 16 nt\n"
     ]
    }
   ],
   "source": [
    "print(f'The fragment extends outside of defined gene by {1371215 - 1371199} nt')"
   ]
  },
  {
   "cell_type": "code",
   "execution_count": 11,
   "metadata": {},
   "outputs": [
    {
     "data": {
      "text/plain": [
       "0"
      ]
     },
     "execution_count": 11,
     "metadata": {},
     "output_type": "execute_result"
    }
   ],
   "source": [
    "gen_frag.find(read[1:])"
   ]
  },
  {
   "cell_type": "markdown",
   "metadata": {},
   "source": [
    "Wow, the entire fragment (minus first A) is found within the genome, then why the heck isn't being counted???\n",
    "\n",
    "Perhaps something to do with the first (mismatched) A? or the \"cleaned\" (perhaps corrupted) Fastq file?"
   ]
  },
  {
   "cell_type": "code",
   "execution_count": 12,
   "metadata": {},
   "outputs": [
    {
     "data": {
      "text/plain": [
       "'FFFFF\\tHI:i:1\\tNH:i:1\\tNM:i:0D00224L:260:CCHR0ANXX:7:1109:2792:2176\\t16\\tCP009301.1\\t1371146\\t40\\t69M\\t*\\t0\\t0\\tCTGGAACGCTAATAGGAGAGGCTGTTGGGTATGCAGATTATTGGCAGAACTAATGTAGACTAATACAT\\tFFFFFFFFFFFFFFFFFFFFFFFFFFFFFFF'"
      ]
     },
     "execution_count": 12,
     "metadata": {},
     "output_type": "execute_result"
    }
   ],
   "source": [
    "idx = sam.find('CTGGAACGCTAATAGGAGAGGCTGTTGGGTATGCAGATTATTGGCAGAACTAATGTAGACTAATACAT')\n",
    "sam[idx - 100: idx + 100]"
   ]
  },
  {
   "cell_type": "code",
   "execution_count": 8,
   "metadata": {},
   "outputs": [
    {
     "data": {
      "text/plain": [
       "'ACTGG'"
      ]
     },
     "execution_count": 8,
     "metadata": {},
     "output_type": "execute_result"
    }
   ],
   "source": [
    "# SAM fragment identifier: NM:i:0D00224L:260:CCHR0ANXX:7:1109:2792:2176, CP009301.1\n",
    "idx = sam.find('ACTGGAACGCTAATAGGAGAGGCTGTTGGGTATGCAGATTATTGGCAGAACTAATGTAGACTAATACAT')\n",
    "sam[idx:idx+5]"
   ]
  },
  {
   "cell_type": "code",
   "execution_count": 9,
   "metadata": {},
   "outputs": [
    {
     "data": {
      "text/plain": [
       "3786303988"
      ]
     },
     "execution_count": 9,
     "metadata": {},
     "output_type": "execute_result"
    }
   ],
   "source": [
    "len(sam)"
   ]
  },
  {
   "cell_type": "code",
   "execution_count": 11,
   "metadata": {},
   "outputs": [
    {
     "data": {
      "text/plain": [
       "3786303974"
      ]
     },
     "execution_count": 11,
     "metadata": {},
     "output_type": "execute_result"
    }
   ],
   "source": [
    "# Remove first A from SAM\n",
    "sam =  sam.replace('ACTGGAACGCTAATAGGAGAGGCTGTTGGGTATGCAGATTATTGGCAGAACTAATGTAGACTAATACAT', 'CTGGAACGCTAATAGGAGAGGCTGTTGGGTATGCAGATTATTGGCAGAACTAATGTAGACTAATACAT')\n",
    "len(sam)"
   ]
  },
  {
   "cell_type": "code",
   "execution_count": 4,
   "metadata": {},
   "outputs": [
    {
     "data": {
      "text/plain": [
       "'CAAAAACTTCCGTTTATGCTTATTATAGGAGAGCAAGAGGAAAAAGATGGCACAATATCTGTAAGAAGACACGGTGGTGAGGATTTAGGTAGTATGACTATAGACGCTTTCGCGAAAATTGTATCTACCGAGATTGCATCGACAATGAAAACATTTGATTAAGT'"
      ]
     },
     "execution_count": 4,
     "metadata": {},
     "output_type": "execute_result"
    }
   ],
   "source": [
    "genome[1409521:1409685]"
   ]
  },
  {
   "cell_type": "markdown",
   "metadata": {},
   "source": [
    "Aligner aligned this sequence which is mostly inside gene MED134_01010, however Rsubread doesn't return anyy match..."
   ]
  },
  {
   "cell_type": "code",
   "execution_count": 13,
   "metadata": {},
   "outputs": [],
   "source": [
    "with open(\"D_10_R1_minusA.sam\", \"w\") as text_file:\n",
    "    text_file.write(sam)"
   ]
  },
  {
   "cell_type": "code",
   "execution_count": null,
   "metadata": {},
   "outputs": [],
   "source": []
  }
 ],
 "metadata": {
  "kernelspec": {
   "display_name": "Python 3",
   "language": "python",
   "name": "python3"
  },
  "language_info": {
   "codemirror_mode": {
    "name": "ipython",
    "version": 3
   },
   "file_extension": ".py",
   "mimetype": "text/x-python",
   "name": "python",
   "nbconvert_exporter": "python",
   "pygments_lexer": "ipython3",
   "version": "3.7.4"
  }
 },
 "nbformat": 4,
 "nbformat_minor": 5
}
