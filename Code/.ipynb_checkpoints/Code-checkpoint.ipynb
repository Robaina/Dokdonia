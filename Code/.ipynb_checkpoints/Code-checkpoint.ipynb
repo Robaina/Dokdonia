{
 "cells": [
  {
   "cell_type": "markdown",
   "metadata": {},
   "source": [
    "# Dokdonia"
   ]
  },
  {
   "cell_type": "code",
   "execution_count": 1,
   "metadata": {},
   "outputs": [
    {
     "data": {
      "text/plain": [
       "3302548"
      ]
     },
     "execution_count": 1,
     "metadata": {},
     "output_type": "execute_result"
    }
   ],
   "source": [
    "genome = with open('dokdonia.txt', 'r').read().replace('\\n', '')\n",
    "len(genome)"
   ]
  },
  {
   "cell_type": "code",
   "execution_count": 5,
   "metadata": {},
   "outputs": [
    {
     "data": {
      "text/plain": [
       "'CTGGAACGCTAATAGGAGAGGCTGTTGGGTATGCAGATTATTGGCAGAACTAATGTAGACTAATACATTTTAAAGGGCTTAATTACGCTTTCGCGAAAGC'"
      ]
     },
     "execution_count": 5,
     "metadata": {},
     "output_type": "execute_result"
    }
   ],
   "source": [
    "# 1369745\t1371199\t.\t+\t0\tgene_id \"MED134_01165\"\n",
    "gen_frag = genome[1371146:1371146+100] # This is gene_id \"MED134_01165\" why not counted??\n",
    "gen_frag"
   ]
  },
  {
   "cell_type": "code",
   "execution_count": 4,
   "metadata": {},
   "outputs": [
    {
     "data": {
      "text/plain": [
       "69"
      ]
     },
     "execution_count": 4,
     "metadata": {},
     "output_type": "execute_result"
    }
   ],
   "source": [
    "# Mapped fragment:\n",
    "read = 'ACTGGAACGCTAATAGGAGAGGCTGTTGGGTATGCAGATTATTGGCAGAACTAATGTAGACTAATACAT'\n",
    "len(read)"
   ]
  },
  {
   "cell_type": "code",
   "execution_count": 13,
   "metadata": {},
   "outputs": [
    {
     "name": "stdout",
     "output_type": "stream",
     "text": [
      "1371215\n"
     ]
    }
   ],
   "source": [
    "print(1371146 + len(read))"
   ]
  },
  {
   "cell_type": "markdown",
   "metadata": {},
   "source": [
    "Ok.. I perhaps begin to see the error, the GTF file indicates that gene: MED134_01165 is located within positions: (1369745, 1371199) in the genome. Now, the start position of the mapped read is: 1371146, and the read as a length of 69 nt, thus extending to position 1371215 which is outside of the region defined by the GTF file... Perhaps this is why the algorithm isn't count this read??\n",
    "\n",
    "Well, I altered the GTF file to extend the length of the gene and yet still got no counts for this gene... weird."
   ]
  },
  {
   "cell_type": "code",
   "execution_count": 14,
   "metadata": {},
   "outputs": [
    {
     "name": "stdout",
     "output_type": "stream",
     "text": [
      "The fragment extends outside of defined gene by 16 nt\n"
     ]
    }
   ],
   "source": [
    "print(f'The fragment extends outside of defined gene by {1371215 - 1371199} nt')"
   ]
  },
  {
   "cell_type": "code",
   "execution_count": 11,
   "metadata": {},
   "outputs": [
    {
     "data": {
      "text/plain": [
       "0"
      ]
     },
     "execution_count": 11,
     "metadata": {},
     "output_type": "execute_result"
    }
   ],
   "source": [
    "gen_frag.find(read[1:])"
   ]
  },
  {
   "cell_type": "markdown",
   "metadata": {},
   "source": [
    "Wow, the entire fragment (minus first A) is found within the genome, then why the heck isn't being counted???\n",
    "\n",
    "Perhaps something to do with the first (mismatched) A? or the \"cleaned\" (perhaps corrupted) Fastq file?"
   ]
  },
  {
   "cell_type": "code",
   "execution_count": 12,
   "metadata": {},
   "outputs": [
    {
     "data": {
      "text/plain": [
       "'FFFFF\\tHI:i:1\\tNH:i:1\\tNM:i:0D00224L:260:CCHR0ANXX:7:1109:2792:2176\\t16\\tCP009301.1\\t1371146\\t40\\t69M\\t*\\t0\\t0\\tCTGGAACGCTAATAGGAGAGGCTGTTGGGTATGCAGATTATTGGCAGAACTAATGTAGACTAATACAT\\tFFFFFFFFFFFFFFFFFFFFFFFFFFFFFFF'"
      ]
     },
     "execution_count": 12,
     "metadata": {},
     "output_type": "execute_result"
    }
   ],
   "source": [
    "idx = sam.find('CTGGAACGCTAATAGGAGAGGCTGTTGGGTATGCAGATTATTGGCAGAACTAATGTAGACTAATACAT')\n",
    "sam[idx - 100: idx + 100]"
   ]
  },
  {
   "cell_type": "code",
   "execution_count": 8,
   "metadata": {},
   "outputs": [
    {
     "data": {
      "text/plain": [
       "'ACTGG'"
      ]
     },
     "execution_count": 8,
     "metadata": {},
     "output_type": "execute_result"
    }
   ],
   "source": [
    "# SAM fragment identifier: NM:i:0D00224L:260:CCHR0ANXX:7:1109:2792:2176, CP009301.1\n",
    "idx = sam.find('ACTGGAACGCTAATAGGAGAGGCTGTTGGGTATGCAGATTATTGGCAGAACTAATGTAGACTAATACAT')\n",
    "sam[idx:idx+5]"
   ]
  },
  {
   "cell_type": "code",
   "execution_count": 9,
   "metadata": {},
   "outputs": [
    {
     "data": {
      "text/plain": [
       "3786303988"
      ]
     },
     "execution_count": 9,
     "metadata": {},
     "output_type": "execute_result"
    }
   ],
   "source": [
    "len(sam)"
   ]
  },
  {
   "cell_type": "code",
   "execution_count": 11,
   "metadata": {},
   "outputs": [
    {
     "data": {
      "text/plain": [
       "3786303974"
      ]
     },
     "execution_count": 11,
     "metadata": {},
     "output_type": "execute_result"
    }
   ],
   "source": [
    "# Remove first A from SAM\n",
    "sam =  sam.replace('ACTGGAACGCTAATAGGAGAGGCTGTTGGGTATGCAGATTATTGGCAGAACTAATGTAGACTAATACAT', 'CTGGAACGCTAATAGGAGAGGCTGTTGGGTATGCAGATTATTGGCAGAACTAATGTAGACTAATACAT')\n",
    "len(sam)"
   ]
  },
  {
   "cell_type": "code",
   "execution_count": 4,
   "metadata": {},
   "outputs": [
    {
     "data": {
      "text/plain": [
       "'CAAAAACTTCCGTTTATGCTTATTATAGGAGAGCAAGAGGAAAAAGATGGCACAATATCTGTAAGAAGACACGGTGGTGAGGATTTAGGTAGTATGACTATAGACGCTTTCGCGAAAATTGTATCTACCGAGATTGCATCGACAATGAAAACATTTGATTAAGT'"
      ]
     },
     "execution_count": 4,
     "metadata": {},
     "output_type": "execute_result"
    }
   ],
   "source": [
    "genome[1409521:1409685]"
   ]
  },
  {
   "cell_type": "markdown",
   "metadata": {},
   "source": [
    "Aligner aligned this sequence which is mostly inside gene MED134_01010, however Rsubread doesn't return anyy match..."
   ]
  },
  {
   "cell_type": "code",
   "execution_count": 5,
   "metadata": {},
   "outputs": [],
   "source": [
    "with open(\"../Data/SAM_files/D_10_R1.sam\", \"r\") as text_file:\n",
    "    sam = text_file.read()"
   ]
  },
  {
   "cell_type": "code",
   "execution_count": 22,
   "metadata": {},
   "outputs": [
    {
     "data": {
      "text/plain": [
       "7895209299"
      ]
     },
     "execution_count": 22,
     "metadata": {},
     "output_type": "execute_result"
    }
   ],
   "source": [
    "len(sam)"
   ]
  },
  {
   "cell_type": "code",
   "execution_count": 24,
   "metadata": {},
   "outputs": [
    {
     "data": {
      "text/plain": [
       "'TCCAACTATTAAAGTTAATATAGCT\\tFFFFFFFFFFFFFFFFFFFFFFFFFFFFFFFFFFFFFFFFFFFFFFFFFFFFFFFFFFFFFFFFFFFFF\\tHI:i:1\\tNH:i:1\\tNM:i:0\\nD00224L:260:CCHR0ANXX:7:1109:2792:2176\\t83\\tCP009301.1\\t1371146\\t40\\t69M\\t=\\t1371112\\t-103\\tACTGGAACGCTAATAGGAGAGGCTGTTGGGTATGCAGATTATTGGCAGAACTAATGTAGACTAATACAT\\tFFFFFFFFFFFFFFFFFFFFFFFFFFFFFFFFFFFFFFFFFFFFFFFFFFFFFFFFFFFFFFFFFFFFF\\tHI:i:1\\tNH:i:1\\tNM:i:0\\nD00224L:260:CCHR0ANXX:7:1109:2792:2176\\t163\\tCP009301.1\\t1371112\\t40\\t69M\\t=\\t1371146\\t103\\tTGATTTTGTAAACGTAAAAGTAAATGAGTGCACTACTGGAACGCTAATAGGAGAGGCTGTTGGGTATGC\\tFFFFFFFFFFFFFFFFFFFFFFFFFFFFFFFFFFFF<FFFFFFFFFFFFFFFFFFFFFFFFFFFFFFFF\\tHI:i:1\\tNH:i:1\\tNM:i:0\\nD00224L:260:CCHR0ANXX:7:1109:2991:2184\\t83\\tCP009301.1\\t1327082\\t40\\t69M\\t=\\t1326836\\t-315\\tTGGAGGATCTTATTTTACAATACCACCACAGGTACAAGTAGAGATTGCAGGTCGCAAGAAGATTATTAC\\tFFFFFFFFFFFFFFFFFFFFFFFFFFFFFFFFFFFFFFFFFFFFFFFFFFFFFFFFFFFFFFFFFFFFF\\tHI:i:1\\tNH:i:1\\tNM:i:0\\nD00224L:260:CCHR0ANXX:7:1109:2991:2184\\t163\\tCP009301.1\\t1326836\\t40\\t69M\\t=\\t1327082\\t315\\tTGAACAAAAAGGTGAAGTAATTGCTCAGACCAAAGAACGTCTAAGCGAGCGCAAGGAACACCTTAAGCA\\tFFFFFFFFFFFFFFFFFFFFFFFFFFFFFFFFFFFFFFFFFFFFFFFFFFFFFFFFFFFFFFFFFFFFF\\tHI:i:1\\tNH:i:1\\tNM:i:0\\nD00224L:260:CCHR0ANXX:7:1109:2822:2197\\t99\\tCP009301.1\\t2675050\\t40\\t69M\\t=\\t2675116\\t135\\tGTAAGCCTTCACAGGGCGTACATTA'"
      ]
     },
     "execution_count": 24,
     "metadata": {},
     "output_type": "execute_result"
    }
   ],
   "source": [
    "seq = 'ACTGGAACGCTAATAGGAGAGGCTGTTGGGTATGCAGATTATTGGCAGAACTAATGTAGACTAATACAT'\n",
    "idx = sam.find(seq)\n",
    "sam[idx-200:idx+1000]"
   ]
  },
  {
   "cell_type": "code",
   "execution_count": 25,
   "metadata": {},
   "outputs": [
    {
     "data": {
      "text/plain": [
       "1371111"
      ]
     },
     "execution_count": 25,
     "metadata": {},
     "output_type": "execute_result"
    }
   ],
   "source": [
    "# Reverse sequence:\n",
    "seq_rev = 'TGATTTTGTAAACGTAAAAGTAAATGAGTGCACTACTGGAACGCTAATAGGAGAGGCTGTTGGGTATGC'\n",
    "genome.find(seq_rev)"
   ]
  },
  {
   "cell_type": "code",
   "execution_count": 12,
   "metadata": {},
   "outputs": [
    {
     "data": {
      "text/plain": [
       "'GTGATCAACGATGATGGAACAGTAACGTATACTCCAGATCCTGATTTCAACGGGGAAGATACTTTTGATTACACAGTGACTGTAACCAACCCTGATGGAACAACAACTACTGAGACTGCTACTGTAGTAGTAACAGTAACTCCAGAGGAGGATGTAATGGATGACGCTGAGACCACACCTGAAGATACACCAGTAATAATTGATGTATTAGAGAATGATGGTTTCGATCCTGCTGCTGATGTAGCGGTAACTGATGTTACAGATCCTGCAAACGGAACTGTAGTGATCAACGATGATGGAACAGTAACCTATACTCCAGATCCTGATTTCAACGGGGAAGATACTTTTGATTACACAGTGACTGTAACCAACCCTGATGGAACAACAACTACTGAGACTGCTACTGTAGTAGTAACAGTAACTCCAGAGGAGGATGTAATGGATGACGCTGAGACCACACCTGAAGATACACCAGTAGATATTGATGTATTAGATAATGATACTTTCGATCCTGCTGCTGATGTAGCAGTAACTGATGTTACAGATCCTGCAAACGGAACTGTAGTGATCAACGATGATGGAACAGTAACGTATACTCCAGATCCTGATTTCAACGGGGAAGATACTTTTGATTACACAGTGACTGTAACCAACCCTGATGGAACAACAACTACTGAGACTGCTACTGTAGTAGTAACAGTAACTCCAGAGGAGGATGTAATGGATGACGCTGAGACCACACCTGAAGATACACCAGTAATAATTGATGTATTAGATAATGATGGTTTCGATCCTGCTGCTGATGTAGCAGTAACTGATGTTACAGATCCTGCAAACGGAACTGTAGTGATCAACGATGATGGAACAGTAACCTATACTCCAGATCCTGATTTCAACGGAGAAGATACTTTTGAATACACAGTAACTGTAACAAACCCTGATGGAACAACAACTACTGAGACTGCTACTGTAGTAGTAACAGTAACTCCAGAGGAGGATG'"
      ]
     },
     "execution_count": 12,
     "metadata": {},
     "output_type": "execute_result"
    }
   ],
   "source": [
    "# Genome\n",
    "genome = open('../Data/DokdoniaMED134_full.fasta', 'r').read().replace('\\n', '')\n",
    "genome[:1000]"
   ]
  },
  {
   "cell_type": "code",
   "execution_count": 19,
   "metadata": {},
   "outputs": [
    {
     "data": {
      "text/plain": [
       "1371145"
      ]
     },
     "execution_count": 19,
     "metadata": {},
     "output_type": "execute_result"
    }
   ],
   "source": [
    "genome.find(seq)"
   ]
  },
  {
   "cell_type": "code",
   "execution_count": 21,
   "metadata": {},
   "outputs": [
    {
     "data": {
      "text/plain": [
       "'ACTGGAACGCTAATAGGAGAGGCTGTTGGGTATGCAGATTATTGGCAGAACTAATGTAGACTAATACAT'"
      ]
     },
     "execution_count": 21,
     "metadata": {},
     "output_type": "execute_result"
    }
   ],
   "source": [
    "genome[1371145: 1371145 + 69]"
   ]
  },
  {
   "cell_type": "markdown",
   "metadata": {},
   "source": [
    "With paired-end I obtain the same behaviour: fragment extends outside of gene range in GTF file. Why is this happening? Perhaps some adapter sequence?"
   ]
  },
  {
   "cell_type": "code",
   "execution_count": 1,
   "metadata": {},
   "outputs": [
    {
     "data": {
      "text/plain": [
       "3675577043"
      ]
     },
     "execution_count": 1,
     "metadata": {},
     "output_type": "execute_result"
    }
   ],
   "source": [
    "# READ SAM built with new index (based on 80char FASTA)\n",
    "with open('../Data/SAM_files/D_10_R1.sam', 'r') as file:\n",
    "    sam = file.read()\n",
    "len(sam)"
   ]
  },
  {
   "cell_type": "code",
   "execution_count": 7,
   "metadata": {},
   "outputs": [
    {
     "data": {
      "text/plain": [
       "[1, 6]"
      ]
     },
     "execution_count": 7,
     "metadata": {},
     "output_type": "execute_result"
    }
   ],
   "source": [
    "import re\n",
    "\n",
    "def findAll(string, pattern):\n",
    "    return [m.start() for m in re.finditer(pattern, string)]\n",
    "\n",
    "findAll('hola hola', 'o')"
   ]
  },
  {
   "cell_type": "code",
   "execution_count": 44,
   "metadata": {},
   "outputs": [
    {
     "data": {
      "text/plain": [
       "10055"
      ]
     },
     "execution_count": 44,
     "metadata": {},
     "output_type": "execute_result"
    }
   ],
   "source": [
    "gene_id = 'MED134_11581'\n",
    "idxs = findAll(sam, gene_id)\n",
    "len(idxs)"
   ]
  },
  {
   "cell_type": "code",
   "execution_count": 18,
   "metadata": {},
   "outputs": [
    {
     "data": {
      "text/plain": [
       "'MED134_11581\\tLN:1281\\n@SQ\\tSN:MED134_11586\\tLN:678\\n@SQ\\tSN:MED134_11591\\tLN:819\\n@SQ\\tSN:MED134_11596\\tLN:846\\n@SQ\\tSN:MED134_11601\\tLN:2118\\n@SQ\\tSN:MED134_11606\\tLN:204\\n@SQ\\tSN:MED134_11611\\tLN:831\\n@SQ\\tSN:MED134_11'"
      ]
     },
     "execution_count": 18,
     "metadata": {},
     "output_type": "execute_result"
    }
   ],
   "source": [
    "i = 0\n",
    "sam[idxs[i]: idxs[i] + 200]"
   ]
  },
  {
   "cell_type": "code",
   "execution_count": 11,
   "metadata": {},
   "outputs": [
    {
     "data": {
      "text/plain": [
       "'MED134_07374\\t76\\t40\\t69M\\t*\\t0\\t0\\tCAAAAGGCCGTACTACACCGCGCTTTTTCTGTATTTGTCTTCAATGATAAAAAGGAGCTTATGCTCCAG\\tFFFFFFFFFFFFFFFFFFFFFFFFFFFFFFFFFFFFFFFFFFFFFFFFFFFFFFFFFFFFFFFFFFFFF\\tHI:i:1\\tNH:i:1\\tNM:i:0\\nD00224L:26'"
      ]
     },
     "execution_count": 11,
     "metadata": {},
     "output_type": "execute_result"
    }
   ],
   "source": [
    "i = 1\n",
    "sam[idxs[i]: idxs[i] + 200]"
   ]
  },
  {
   "cell_type": "code",
   "execution_count": 12,
   "metadata": {},
   "outputs": [
    {
     "data": {
      "text/plain": [
       "'MED134_07374\\t90\\t40\\t69M\\t*\\t0\\t0\\tACACCGCGCTTTTTCTGTATTTGTCTTCAATGATAAAAAGGAGCTTATGCTCCAGCAAAGAGCACTTCA\\tFFFFFFFFFFFFFFFFBFFFBFFFFFFFFBBFFFFFFFFFFFFFF<FFFB0FFFFFFFFFFFFFFFFBF\\tHI:i:1\\tNH:i:1\\tNM:i:0\\nD00224L:26'"
      ]
     },
     "execution_count": 12,
     "metadata": {},
     "output_type": "execute_result"
    }
   ],
   "source": [
    "i = 2\n",
    "sam[idxs[i]: idxs[i] + 200]"
   ]
  },
  {
   "cell_type": "code",
   "execution_count": 13,
   "metadata": {},
   "outputs": [
    {
     "data": {
      "text/plain": [
       "'MED134_07374\\t345\\t40\\t69M\\t*\\t0\\t0\\tTCATATACTAATAGGTCACTCAGAGCAAGAGCCTTTAATTAATGAGGAAGAAGTAGCTGCCTGGAAGTG\\tFFFFFFFFFFFFFFFFFFFFFFFFFFFFFFFFFFFFFFFFFFFFFFFFFFFFFFFFFFFFFFFFFFFFF\\tHI:i:1\\tNH:i:1\\tNM:i:0\\nD00224L:2'"
      ]
     },
     "execution_count": 13,
     "metadata": {},
     "output_type": "execute_result"
    }
   ],
   "source": [
    "i = 3\n",
    "sam[idxs[i]: idxs[i] + 200]"
   ]
  },
  {
   "cell_type": "code",
   "execution_count": 20,
   "metadata": {},
   "outputs": [],
   "source": [
    "# Checking SAM output\n",
    "gene = 'MED134_00535'\n",
    "seq = 'CCAGAAGGTCTTCTTACTCGTGACCCAAGAATGGTTGAGCGTAAGAAATTTGG'\n",
    "\n",
    "with open(\"../Data/DokdoniaMED134.fasta\", \"r\") as text_file:\n",
    "    fasta = text_file.read()"
   ]
  },
  {
   "cell_type": "code",
   "execution_count": 22,
   "metadata": {},
   "outputs": [
    {
     "data": {
      "text/plain": [
       "[1400330]"
      ]
     },
     "execution_count": 22,
     "metadata": {},
     "output_type": "execute_result"
    }
   ],
   "source": [
    "idxs = findAll(fasta, seq)\n",
    "idxs"
   ]
  },
  {
   "cell_type": "code",
   "execution_count": 41,
   "metadata": {},
   "outputs": [
    {
     "data": {
      "text/plain": [
       "'>MED134_00535\\nATGGAGACTTTACACAAAATCGGTCGTCGTAAGACCGCAGTAGCTCGTGTTTATCTTACTGAAGGAGAAGGTAAAATCACTGTAAACAAAAAAGAACTGAACAACTACTTCCCTACGGGAACATTACAGTACAAAGTAAACCAGCCACTTGTTTTAACAAACAACGAAGGTAACTTTGACATTAATGTAAACGTATATGGTGGTGGTATCACTGGTCAGGCAGAGGCTATCAGACTTGCTCTTTCTAGAGCAATGTGTGAACTAGACGAAGAAAATCGTCTTATCCTTAAGCCAGAAGGTCTTCTTACTCGTGACCCAAGAATGGTTGAGCGTAAGAAATTTGGTCAGAAGAAAGCACGTAAGAAGTTCCAATTCTCAAAGCGTTAA\\n>'"
      ]
     },
     "execution_count": 41,
     "metadata": {},
     "output_type": "execute_result"
    }
   ],
   "source": [
    "fasta[idxs[0] - 305:idxs[0]+98]"
   ]
  },
  {
   "cell_type": "markdown",
   "metadata": {},
   "source": [
    "# Make new GTF file with chromosomal reference name equal to gene id, since SAM RNAME is the gene id"
   ]
  },
  {
   "cell_type": "code",
   "execution_count": 11,
   "metadata": {},
   "outputs": [
    {
     "data": {
      "text/plain": [
       "'MED134_07389\"\\tGenbank\\texon\\t1\\t5790\\t.\\t+\\t0\\tgene_id \"MED134_07389\" ; transcript_id \"MED134_07389\"\\nMED134_07384\"\\tGenbank\\texon\\t5899\\t6843\\t.\\t+\\t0\\tgene_id \"MED134_07384\" ; transcript_id \"MED134_07384\"\\nMED134_07379\"\\tGenbank\\texon\\t6853\\t8802\\t.\\t+\\t0\\tgene_id \"MED134_07379\" ; transcript_id \"MED134_07379\"\\nMED134_07374\"\\tGenbank\\texon\\t8879\\t9397\\t.\\t+\\t0\\tgene_id \"MED134_07374\" ; transcript_id \"MED134_07374\"\\nMED134_07369\"\\tGenbank\\texon\\t9394\\t9804\\t.\\t+\\t0\\tgene_id \"MED134_07369\" ; transcript_id \"MED134_07369\"\\nMED134_07364\"\\tGenbank\\texon\\t9805\\t10257\\t.\\t+\\t0\\tgene_id \"MED134_07364\" ; transcript_id \"MED134_07364\"\\nMED134_07359\"\\tGenbank\\texon\\t10496\\t10762\\t.\\t-\\t0\\tgene_id \"MED134_07359\" ; transcript_id \"MED134_07359\"\\nMED134_07354\"\\tGenbank\\texon\\t10856\\t11554\\t.\\t-\\t0\\tgene_id \"MED134_07354\" ; transcript_id \"MED134_07354\"\\nMED134_07349\"\\tGenbank\\texon\\t11604\\t12854\\t.\\t-\\t0\\tgene_id \"MED134_07349\" ; transcript_id \"MED134_07349\"\\nMED134_07344\"\\tGenbank\\texon\\t12942\\t15134\\t.\\t-\\t0\\tgene_id \"MED134_07344\" ; transcript_id \"MED134_07344\"\\nMED134_07339\"\\tGenbank\\texon\\t15249\\t16196\\t.\\t-\\t0\\tgene_id \"MED134_07339\" ; transcript_id \"MED134_07339\"\\nMED134_07334\"\\tGenbank\\texon\\t16325\\t17098\\t.\\t+\\t0\\tgene_id \"MED134_07334\" ; transcript_id \"MED134_07334\"\\nMED134_07329\"\\tGenbank\\texon\\t17090\\t17959\\t.\\t-\\t0\\tgene_id \"MED134_07329\" ; transcript_id \"MED134_07329\"\\nMED134_07319\"\\tGenbank\\texon\\t18211\\t18537\\t.\\t+\\t0\\tgene_id \"MED134_07319\" ; transcript_id \"MED134_07319\"\\nMED134_07314\"\\tGenbank\\texon\\t18733\\t19332\\t.\\t-\\t0\\tgene_id \"MED134_07314\" ; transcript_id \"MED134_07314\"\\nMED134_07309\"\\tGenbank\\texon\\t19333\\t19680\\t.\\t-\\t0\\tgene_id \"MED134_07309\" ; transcript_id \"MED134_07309\"\\nMED134_07304\"\\tGenbank\\texon\\t19737\\t20498\\t.\\t-\\t0\\tgene_id \"MED134_07304\" ; transcript_id \"MED134_07304\"\\nMED134_07299\"\\tGenbank\\texon\\t20657\\t21748\\t.\\t-\\t0\\tgene_id \"MED134_07299\" ; transcript_id \"MED134_07299\"\\nMED134_07294\"\\tGenbank\\texon\\t21897\\t23351\\t.\\t-\\t0\\tgene_id \"MED134_07294\" ; transcript_id \"MED134_07294\"\\nMED134_07289\"\\tGenbank\\texon\\t23477\\t24778\\t.\\t-\\t0\\tgene_id \"MED134_07289\" ; transcript_id \"MED134_07289\"\\nMED134_07284\"\\tGenbank\\texon\\t24990\\t2'"
      ]
     },
     "execution_count": 11,
     "metadata": {},
     "output_type": "execute_result"
    }
   ],
   "source": [
    "with open(\"../Data/DokdoniaMED134_geneIDs.gtf\", \"r\") as text_file:\n",
    "    gtf = text_file.read()\n",
    "gtf[:2000]"
   ]
  },
  {
   "cell_type": "code",
   "execution_count": 10,
   "metadata": {},
   "outputs": [],
   "source": [
    "gtf = open(\"../Data/DokdoniaMED134 - Copy.gtf\", \"r\")\n",
    "lines = gtf.readlines()\n",
    "for i, line in enumerate(lines):\n",
    "    idx = line.find('MED134_')\n",
    "    gene_id = line[idx:idx+12]\n",
    "    lines[i] = line.replace('DokdoniaMED134', gene_id)\n",
    "\n",
    "gtf = open(\"../Data/DokdoniaMED134_geneIDs.gtf\", \"w\")\n",
    "gtf.writelines(lines)\n",
    "gtf.close()"
   ]
  }
 ],
 "metadata": {
  "kernelspec": {
   "display_name": "Python 3",
   "language": "python",
   "name": "python3"
  },
  "language_info": {
   "codemirror_mode": {
    "name": "ipython",
    "version": 3
   },
   "file_extension": ".py",
   "mimetype": "text/x-python",
   "name": "python",
   "nbconvert_exporter": "python",
   "pygments_lexer": "ipython3",
   "version": "3.7.4"
  }
 },
 "nbformat": 4,
 "nbformat_minor": 5
}
