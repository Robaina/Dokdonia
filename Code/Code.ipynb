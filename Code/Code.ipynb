{
 "cells": [
  {
   "cell_type": "markdown",
   "id": "transparent-festival",
   "metadata": {},
   "source": [
    "# Dokdonia"
   ]
  },
  {
   "cell_type": "code",
   "execution_count": 1,
   "id": "linear-bacteria",
   "metadata": {},
   "outputs": [
    {
     "data": {
      "text/plain": [
       "3302548"
      ]
     },
     "execution_count": 1,
     "metadata": {},
     "output_type": "execute_result"
    }
   ],
   "source": [
    "genome = open('dokdonia.txt', 'r').read().replace('\\n', '')\n",
    "len(genome)"
   ]
  },
  {
   "cell_type": "code",
   "execution_count": 5,
   "id": "sixth-credits",
   "metadata": {},
   "outputs": [
    {
     "data": {
      "text/plain": [
       "'CTGGAACGCTAATAGGAGAGGCTGTTGGGTATGCAGATTATTGGCAGAACTAATGTAGACTAATACATTTTAAAGGGCTTAATTACGCTTTCGCGAAAGC'"
      ]
     },
     "execution_count": 5,
     "metadata": {},
     "output_type": "execute_result"
    }
   ],
   "source": [
    "# 1369745\t1371199\t.\t+\t0\tgene_id \"MED134_01165\"\n",
    "gen_frag = genome[1371146:1371146+100] # This is gene_id \"MED134_01165\" why not counted??\n",
    "gen_frag"
   ]
  },
  {
   "cell_type": "code",
   "execution_count": 4,
   "id": "monetary-dietary",
   "metadata": {},
   "outputs": [
    {
     "data": {
      "text/plain": [
       "69"
      ]
     },
     "execution_count": 4,
     "metadata": {},
     "output_type": "execute_result"
    }
   ],
   "source": [
    "# Mapped fragment:\n",
    "read = 'ACTGGAACGCTAATAGGAGAGGCTGTTGGGTATGCAGATTATTGGCAGAACTAATGTAGACTAATACAT'\n",
    "len(read)"
   ]
  },
  {
   "cell_type": "code",
   "execution_count": 13,
   "id": "atlantic-darwin",
   "metadata": {},
   "outputs": [
    {
     "name": "stdout",
     "output_type": "stream",
     "text": [
      "1371215\n"
     ]
    }
   ],
   "source": [
    "print(1371146 + len(read))"
   ]
  },
  {
   "cell_type": "markdown",
   "id": "signal-letters",
   "metadata": {},
   "source": [
    "Ok.. I perhaps begin to see the error, the GTF file indicates that gene: MED134_01165 is located within positions: (1369745, 1371199) in the genome. Now, the start position of the mapped read is: 1371146, and the read as a length of 69 nt, thus extending to position 1371215 which is outside of the region defined by the GTF file... Perhaps this is why the algorithm isn't count this read??"
   ]
  },
  {
   "cell_type": "code",
   "execution_count": 14,
   "id": "responsible-agriculture",
   "metadata": {},
   "outputs": [
    {
     "name": "stdout",
     "output_type": "stream",
     "text": [
      "The fragment extends outside of defined gene by 16 nt\n"
     ]
    }
   ],
   "source": [
    "print(f'The fragment extends outside of defined gene by {1371215 - 1371199} nt')"
   ]
  },
  {
   "cell_type": "code",
   "execution_count": 11,
   "id": "equal-islam",
   "metadata": {},
   "outputs": [
    {
     "data": {
      "text/plain": [
       "0"
      ]
     },
     "execution_count": 11,
     "metadata": {},
     "output_type": "execute_result"
    }
   ],
   "source": [
    "gen_frag.find(read[1:])"
   ]
  },
  {
   "cell_type": "markdown",
   "id": "killing-seller",
   "metadata": {},
   "source": [
    "Wow, the entire fragment (minus first A) is found within gene sequence, then why the heck isn't being counted???"
   ]
  },
  {
   "cell_type": "code",
   "execution_count": 4,
   "id": "declared-manitoba",
   "metadata": {},
   "outputs": [
    {
     "data": {
      "text/plain": [
       "'CAAAAACTTCCGTTTATGCTTATTATAGGAGAGCAAGAGGAAAAAGATGGCACAATATCTGTAAGAAGACACGGTGGTGAGGATTTAGGTAGTATGACTATAGACGCTTTCGCGAAAATTGTATCTACCGAGATTGCATCGACAATGAAAACATTTGATTAAGT'"
      ]
     },
     "execution_count": 4,
     "metadata": {},
     "output_type": "execute_result"
    }
   ],
   "source": [
    "genome[1409521:1409685]"
   ]
  },
  {
   "cell_type": "markdown",
   "id": "intense-paint",
   "metadata": {},
   "source": [
    "Aligner aligned this sequence which is mostly inside gene MED134_01010, however Rsubread doesn't return anyy match..."
   ]
  }
 ],
 "metadata": {
  "kernelspec": {
   "display_name": "Python 3",
   "language": "python",
   "name": "python3"
  },
  "language_info": {
   "codemirror_mode": {
    "name": "ipython",
    "version": 3
   },
   "file_extension": ".py",
   "mimetype": "text/x-python",
   "name": "python",
   "nbconvert_exporter": "python",
   "pygments_lexer": "ipython3",
   "version": "3.8.5"
  }
 },
 "nbformat": 4,
 "nbformat_minor": 5
}
