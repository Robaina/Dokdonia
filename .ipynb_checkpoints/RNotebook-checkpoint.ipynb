{
 "cells": [
  {
   "cell_type": "markdown",
   "metadata": {},
   "source": [
    "# Analysis of differential expression across conditions"
   ]
  },
  {
   "cell_type": "code",
   "execution_count": null,
   "metadata": {},
   "outputs": [],
   "source": [
    "library(\"DESeq2\")\n",
    "setwd(\"~/Documents/Proyecto_rodopsina/\")\n",
    "load(\"Data/DokdoniaTPMCounts.RData\")"
   ]
  },
  {
   "cell_type": "code",
   "execution_count": 12,
   "metadata": {},
   "outputs": [
    {
     "data": {
      "text/html": [
       "<table class=\"dataframe\">\n",
       "<caption>A data.frame: 5 × 2</caption>\n",
       "<thead>\n",
       "\t<tr><th></th><th scope=col>Temperature</th><th scope=col>Light</th></tr>\n",
       "\t<tr><th></th><th scope=col>&lt;chr&gt;</th><th scope=col>&lt;chr&gt;</th></tr>\n",
       "</thead>\n",
       "<tbody>\n",
       "\t<tr><th scope=row>D_10_R1.sam</th><td>10</td><td>D</td></tr>\n",
       "\t<tr><th scope=row>D_10_R2.sam</th><td>10</td><td>D</td></tr>\n",
       "\t<tr><th scope=row>D_10_R3.sam</th><td>10</td><td>D</td></tr>\n",
       "\t<tr><th scope=row>D_18_R1.sam</th><td>18</td><td>D</td></tr>\n",
       "\t<tr><th scope=row>D_18_R2.sam</th><td>18</td><td>D</td></tr>\n",
       "</tbody>\n",
       "</table>\n"
      ],
      "text/latex": [
       "A data.frame: 5 × 2\n",
       "\\begin{tabular}{r|ll}\n",
       "  & Temperature & Light\\\\\n",
       "  & <chr> & <chr>\\\\\n",
       "\\hline\n",
       "\tD\\_10\\_R1.sam & 10 & D\\\\\n",
       "\tD\\_10\\_R2.sam & 10 & D\\\\\n",
       "\tD\\_10\\_R3.sam & 10 & D\\\\\n",
       "\tD\\_18\\_R1.sam & 18 & D\\\\\n",
       "\tD\\_18\\_R2.sam & 18 & D\\\\\n",
       "\\end{tabular}\n"
      ],
      "text/markdown": [
       "\n",
       "A data.frame: 5 × 2\n",
       "\n",
       "| <!--/--> | Temperature &lt;chr&gt; | Light &lt;chr&gt; |\n",
       "|---|---|---|\n",
       "| D_10_R1.sam | 10 | D |\n",
       "| D_10_R2.sam | 10 | D |\n",
       "| D_10_R3.sam | 10 | D |\n",
       "| D_18_R1.sam | 18 | D |\n",
       "| D_18_R2.sam | 18 | D |\n",
       "\n"
      ],
      "text/plain": [
       "            Temperature Light\n",
       "D_10_R1.sam 10          D    \n",
       "D_10_R2.sam 10          D    \n",
       "D_10_R3.sam 10          D    \n",
       "D_18_R1.sam 18          D    \n",
       "D_18_R2.sam 18          D    "
      ]
     },
     "metadata": {},
     "output_type": "display_data"
    }
   ],
   "source": [
    "cnames <- colnames(data$counts)\n",
    "conditions = unlist(\n",
    "    lapply(cnames, function(s){return(strsplit(s, \".sam\")[[1]])})\n",
    ")\n",
    "\n",
    "light_conditions <- conditions[1:16]\n",
    "dark_conditions <- conditions[17:length(conditions)]\n",
    "\n",
    "light <- vector()\n",
    "temp <- vector()\n",
    "files <- colnames(data$counts)\n",
    "for (i in 1:length(files)) {\n",
    "    light <- c(light, substring(files[i], 1, 1))\n",
    "    temp <- c(temp, substring(files[i], 3, 4))\n",
    "}\n",
    "\n",
    "meta <- data.frame(row.names = cnames,\n",
    "                  \"Temperature\" = temp,\n",
    "                  \"Light\" = light)\n",
    "head(meta, 5)"
   ]
  },
  {
   "cell_type": "code",
   "execution_count": 13,
   "metadata": {},
   "outputs": [
    {
     "name": "stderr",
     "output_type": "stream",
     "text": [
      "Warning message in DESeqDataSet(se, design = design, ignoreRank):\n",
      "“some variables in design formula are characters, converting to factors”\n"
     ]
    }
   ],
   "source": [
    "dds <- DESeqDataSetFromMatrix(countData = data$counts, \n",
    "                              colData = meta, design = ~ Temperature)  "
   ]
  },
  {
   "cell_type": "code",
   "execution_count": 14,
   "metadata": {},
   "outputs": [
    {
     "name": "stderr",
     "output_type": "stream",
     "text": [
      "estimating size factors\n",
      "\n",
      "estimating dispersions\n",
      "\n",
      "gene-wise dispersion estimates\n",
      "\n",
      "mean-dispersion relationship\n",
      "\n",
      "final dispersion estimates\n",
      "\n",
      "fitting model and testing\n",
      "\n"
     ]
    }
   ],
   "source": [
    "dds_lrt <- DESeq(dds, test=\"LRT\", reduced = ~ 1) # Likelyhood Ratio Test (multiple conditions)"
   ]
  },
  {
   "cell_type": "code",
   "execution_count": 15,
   "metadata": {},
   "outputs": [
    {
     "data": {
      "text/plain": [
       "log2 fold change (MLE): Temperature 34 vs 10 \n",
       "LRT p-value: '~ Temperature' vs '~ 1' \n",
       "DataFrame with 2886 rows and 6 columns\n",
       "              baseMean log2FoldChange     lfcSE      stat       pvalue\n",
       "             <numeric>      <numeric> <numeric> <numeric>    <numeric>\n",
       "MED134_07389  28698.32       0.941887 0.0757369  179.5902  1.08133e-38\n",
       "MED134_07384   3909.36       1.130010 0.0596776  399.6192  2.67690e-86\n",
       "MED134_07379   6942.78       0.903971 0.0447610  469.1036 2.36562e-101\n",
       "MED134_07374   2984.57       0.364880 0.0643950   51.0036  4.88341e-11\n",
       "MED134_07369   3262.90       0.204430 0.0856888   17.1243  6.66336e-04\n",
       "...                ...            ...       ...       ...          ...\n",
       "MED134_14782   1833.07      -0.405973 0.0907462   31.9619  5.33119e-07\n",
       "MED134_14787   4857.90      -0.332865 0.0398016   99.4119  2.07938e-21\n",
       "MED134_14792   4789.24      -0.937420 0.0681734  202.0328  1.53433e-43\n",
       "MED134_14797   1070.22       0.234741 0.0494182  154.9895  2.20969e-33\n",
       "MED134_14802   6407.24      -1.034763 0.0613018  318.9509  7.86759e-69\n",
       "                     padj\n",
       "                <numeric>\n",
       "MED134_07389  4.92227e-38\n",
       "MED134_07384  3.75026e-85\n",
       "MED134_07379 4.18845e-100\n",
       "MED134_07374  8.58315e-11\n",
       "MED134_07369  8.03277e-04\n",
       "...                   ...\n",
       "MED134_14782  7.59794e-07\n",
       "MED134_14787  5.48044e-21\n",
       "MED134_14792  7.93564e-43\n",
       "MED134_14797  8.64116e-33\n",
       "MED134_14802  7.67090e-68"
      ]
     },
     "metadata": {},
     "output_type": "display_data"
    }
   ],
   "source": [
    "res <- results(dds_lrt)\n",
    "res"
   ]
  },
  {
   "cell_type": "code",
   "execution_count": null,
   "metadata": {},
   "outputs": [],
   "source": []
  }
 ],
 "metadata": {
  "kernelspec": {
   "display_name": "R",
   "language": "R",
   "name": "ir"
  },
  "language_info": {
   "codemirror_mode": "r",
   "file_extension": ".r",
   "mimetype": "text/x-r-source",
   "name": "R",
   "pygments_lexer": "r",
   "version": "4.0.4"
  }
 },
 "nbformat": 4,
 "nbformat_minor": 5
}
