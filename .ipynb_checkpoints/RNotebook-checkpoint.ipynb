{
 "cells": [
  {
   "cell_type": "code",
   "execution_count": 2,
   "id": "abroad-sphere",
   "metadata": {},
   "outputs": [],
   "source": [
    "library(Rsubread)"
   ]
  },
  {
   "cell_type": "code",
   "execution_count": 6,
   "id": "breathing-housing",
   "metadata": {},
   "outputs": [
    {
     "data": {
      "text/html": [],
      "text/latex": [],
      "text/markdown": [],
      "text/plain": [
       "character(0)"
      ]
     },
     "metadata": {},
     "output_type": "display_data"
    }
   ],
   "source": [
    "# define shared directory for RNAseq data\n",
    "RNAseqDATADIR <- \"Data/LauraDokdoniaReadsCleaned\"\n",
    "#list the fastq files in the raw data directory\n",
    "list.files(RNAseqDATADIR)"
   ]
  },
  {
   "cell_type": "code",
   "execution_count": null,
   "id": "mature-coverage",
   "metadata": {},
   "outputs": [],
   "source": []
  }
 ],
 "metadata": {
  "kernelspec": {
   "display_name": "R",
   "language": "R",
   "name": "ir"
  },
  "language_info": {
   "codemirror_mode": "r",
   "file_extension": ".r",
   "mimetype": "text/x-r-source",
   "name": "R",
   "pygments_lexer": "r",
   "version": "4.0.4"
  }
 },
 "nbformat": 4,
 "nbformat_minor": 5
}
