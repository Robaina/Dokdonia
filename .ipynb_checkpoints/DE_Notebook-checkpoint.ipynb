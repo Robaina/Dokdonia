{
 "cells": [
  {
   "cell_type": "markdown",
   "id": "sustainable-triumph",
   "metadata": {},
   "source": [
    "# Analysis of differential expression across conditions\n",
    "\n",
    "* Temperature: 10, 18, 25, 34\n",
    "* Lighting: Dark, Light\n",
    "\n",
    "__NOTES__:\n",
    "\n",
    "1. So far I have computed DE among all samples disregarding effect of day cycle. I would need to compute DE between light and dark conditions, as well as DE for temperature for the two independent data sets (light, dark)\n",
    "2. Regarding the two effects, I could find genes:\n",
    "\n",
    "Condition | Temp (10 -> 34) \n",
    "--- | ---\n",
    "Light | (+, -) \n",
    "Dark | (+, -) \n",
    "\n",
    "Hence, would be interesting to cluster genes based on the DE pattern, i.e., those which correlate with temperatur in the same manner under light or dark and those that differ...\n",
    "\n",
    "3. Need also to establish which condition generates more variance: lighting or temperature?"
   ]
  },
  {
   "cell_type": "code",
   "execution_count": 178,
   "id": "intensive-grove",
   "metadata": {},
   "outputs": [
    {
     "data": {
      "text/html": [
       "<div>\n",
       "<style scoped>\n",
       "    .dataframe tbody tr th:only-of-type {\n",
       "        vertical-align: middle;\n",
       "    }\n",
       "\n",
       "    .dataframe tbody tr th {\n",
       "        vertical-align: top;\n",
       "    }\n",
       "\n",
       "    .dataframe thead th {\n",
       "        text-align: right;\n",
       "    }\n",
       "</style>\n",
       "<table border=\"1\" class=\"dataframe\">\n",
       "  <thead>\n",
       "    <tr style=\"text-align: right;\">\n",
       "      <th></th>\n",
       "      <th>D_10_R1</th>\n",
       "      <th>D_10_R2</th>\n",
       "      <th>D_10_R3</th>\n",
       "      <th>D_18_R1</th>\n",
       "      <th>D_18_R2</th>\n",
       "      <th>D_18_R3_T1</th>\n",
       "      <th>D_18_R3</th>\n",
       "      <th>D_18_R4</th>\n",
       "      <th>D_25_R1</th>\n",
       "      <th>D_25_R2</th>\n",
       "      <th>...</th>\n",
       "      <th>L_25_R1</th>\n",
       "      <th>L_25_R2</th>\n",
       "      <th>L_25_R3</th>\n",
       "      <th>L_34_R1</th>\n",
       "      <th>L_34_R2</th>\n",
       "      <th>L_34_R3</th>\n",
       "      <th>L_34_R4_T1</th>\n",
       "      <th>L_34_R4_T2</th>\n",
       "      <th>L_34_R4_T3</th>\n",
       "      <th>L_34_R4</th>\n",
       "    </tr>\n",
       "  </thead>\n",
       "  <tbody>\n",
       "    <tr>\n",
       "      <th>MED134_07389</th>\n",
       "      <td>12973</td>\n",
       "      <td>11426</td>\n",
       "      <td>13251</td>\n",
       "      <td>30624</td>\n",
       "      <td>30618</td>\n",
       "      <td>25566</td>\n",
       "      <td>41014</td>\n",
       "      <td>22449</td>\n",
       "      <td>53840</td>\n",
       "      <td>32369</td>\n",
       "      <td>...</td>\n",
       "      <td>39444</td>\n",
       "      <td>41721</td>\n",
       "      <td>37020</td>\n",
       "      <td>39662</td>\n",
       "      <td>30983</td>\n",
       "      <td>27280</td>\n",
       "      <td>43105</td>\n",
       "      <td>44946</td>\n",
       "      <td>39311</td>\n",
       "      <td>57834</td>\n",
       "    </tr>\n",
       "    <tr>\n",
       "      <th>MED134_07384</th>\n",
       "      <td>1557</td>\n",
       "      <td>1555</td>\n",
       "      <td>1552</td>\n",
       "      <td>4160</td>\n",
       "      <td>4385</td>\n",
       "      <td>3383</td>\n",
       "      <td>5588</td>\n",
       "      <td>2940</td>\n",
       "      <td>7550</td>\n",
       "      <td>4509</td>\n",
       "      <td>...</td>\n",
       "      <td>5419</td>\n",
       "      <td>5536</td>\n",
       "      <td>5318</td>\n",
       "      <td>5396</td>\n",
       "      <td>4751</td>\n",
       "      <td>4285</td>\n",
       "      <td>5108</td>\n",
       "      <td>4924</td>\n",
       "      <td>4503</td>\n",
       "      <td>7818</td>\n",
       "    </tr>\n",
       "    <tr>\n",
       "      <th>MED134_07379</th>\n",
       "      <td>3400</td>\n",
       "      <td>3319</td>\n",
       "      <td>3273</td>\n",
       "      <td>7218</td>\n",
       "      <td>7903</td>\n",
       "      <td>6315</td>\n",
       "      <td>9539</td>\n",
       "      <td>5040</td>\n",
       "      <td>13268</td>\n",
       "      <td>7572</td>\n",
       "      <td>...</td>\n",
       "      <td>9089</td>\n",
       "      <td>9016</td>\n",
       "      <td>8529</td>\n",
       "      <td>10179</td>\n",
       "      <td>7617</td>\n",
       "      <td>7207</td>\n",
       "      <td>9484</td>\n",
       "      <td>8837</td>\n",
       "      <td>8743</td>\n",
       "      <td>13827</td>\n",
       "    </tr>\n",
       "    <tr>\n",
       "      <th>MED134_07374</th>\n",
       "      <td>1987</td>\n",
       "      <td>2124</td>\n",
       "      <td>1404</td>\n",
       "      <td>3509</td>\n",
       "      <td>3772</td>\n",
       "      <td>2846</td>\n",
       "      <td>4337</td>\n",
       "      <td>2602</td>\n",
       "      <td>4607</td>\n",
       "      <td>3316</td>\n",
       "      <td>...</td>\n",
       "      <td>3586</td>\n",
       "      <td>3594</td>\n",
       "      <td>3488</td>\n",
       "      <td>4158</td>\n",
       "      <td>3096</td>\n",
       "      <td>2623</td>\n",
       "      <td>3818</td>\n",
       "      <td>3792</td>\n",
       "      <td>3538</td>\n",
       "      <td>5323</td>\n",
       "    </tr>\n",
       "    <tr>\n",
       "      <th>MED134_07369</th>\n",
       "      <td>2087</td>\n",
       "      <td>2010</td>\n",
       "      <td>2111</td>\n",
       "      <td>3774</td>\n",
       "      <td>3809</td>\n",
       "      <td>2921</td>\n",
       "      <td>4486</td>\n",
       "      <td>2901</td>\n",
       "      <td>4668</td>\n",
       "      <td>3456</td>\n",
       "      <td>...</td>\n",
       "      <td>3705</td>\n",
       "      <td>4158</td>\n",
       "      <td>3760</td>\n",
       "      <td>5518</td>\n",
       "      <td>3563</td>\n",
       "      <td>2713</td>\n",
       "      <td>3679</td>\n",
       "      <td>3543</td>\n",
       "      <td>3356</td>\n",
       "      <td>5150</td>\n",
       "    </tr>\n",
       "  </tbody>\n",
       "</table>\n",
       "<p>5 rows × 33 columns</p>\n",
       "</div>"
      ],
      "text/plain": [
       "              D_10_R1  D_10_R2  D_10_R3  D_18_R1  D_18_R2  D_18_R3_T1  \\\n",
       "MED134_07389    12973    11426    13251    30624    30618       25566   \n",
       "MED134_07384     1557     1555     1552     4160     4385        3383   \n",
       "MED134_07379     3400     3319     3273     7218     7903        6315   \n",
       "MED134_07374     1987     2124     1404     3509     3772        2846   \n",
       "MED134_07369     2087     2010     2111     3774     3809        2921   \n",
       "\n",
       "              D_18_R3  D_18_R4  D_25_R1  D_25_R2  ...  L_25_R1  L_25_R2  \\\n",
       "MED134_07389    41014    22449    53840    32369  ...    39444    41721   \n",
       "MED134_07384     5588     2940     7550     4509  ...     5419     5536   \n",
       "MED134_07379     9539     5040    13268     7572  ...     9089     9016   \n",
       "MED134_07374     4337     2602     4607     3316  ...     3586     3594   \n",
       "MED134_07369     4486     2901     4668     3456  ...     3705     4158   \n",
       "\n",
       "              L_25_R3  L_34_R1  L_34_R2  L_34_R3  L_34_R4_T1  L_34_R4_T2  \\\n",
       "MED134_07389    37020    39662    30983    27280       43105       44946   \n",
       "MED134_07384     5318     5396     4751     4285        5108        4924   \n",
       "MED134_07379     8529    10179     7617     7207        9484        8837   \n",
       "MED134_07374     3488     4158     3096     2623        3818        3792   \n",
       "MED134_07369     3760     5518     3563     2713        3679        3543   \n",
       "\n",
       "              L_34_R4_T3  L_34_R4  \n",
       "MED134_07389       39311    57834  \n",
       "MED134_07384        4503     7818  \n",
       "MED134_07379        8743    13827  \n",
       "MED134_07374        3538     5323  \n",
       "MED134_07369        3356     5150  \n",
       "\n",
       "[5 rows x 33 columns]"
      ]
     },
     "execution_count": 178,
     "metadata": {},
     "output_type": "execute_result"
    }
   ],
   "source": [
    "import pandas as pd\n",
    "from diffexpr.py_deseq import py_DESeq2\n",
    "from rpy2.robjects import Formula\n",
    "from rpy2.rinterface_lib.callbacks import logger as rpy2_logger\n",
    "import logging\n",
    "rpy2_logger.setLevel(logging.ERROR) \n",
    "\n",
    "counts = pd.read_csv('Data/DokdoniaCounts.csv', index_col=0)\n",
    "conditions = [name.split('.sam')[0] for name in counts.columns]\n",
    "counts.columns = conditions\n",
    "counts.head()"
   ]
  },
  {
   "cell_type": "code",
   "execution_count": 8,
   "id": "inappropriate-pattern",
   "metadata": {},
   "outputs": [
    {
     "data": {
      "image/png": "[encoded data removed]",
      "text/plain": [
       "<Figure size 1080x720 with 1 Axes>"
      ]
     },
     "metadata": {
      "needs_background": "light"
     },
     "output_type": "display_data"
    }
   ],
   "source": [
    "ax = counts.sum().plot.bar(figsize=(15, 10))"
   ]
  },
  {
   "cell_type": "code",
   "execution_count": 179,
   "id": "gorgeous-quantum",
   "metadata": {},
   "outputs": [
    {
     "name": "stderr",
     "output_type": "stream",
     "text": [
      "INFO:numexpr.utils:NumExpr defaulting to 8 threads.\n"
     ]
    },
    {
     "data": {
      "text/html": [
       "<div>\n",
       "<style scoped>\n",
       "    .dataframe tbody tr th:only-of-type {\n",
       "        vertical-align: middle;\n",
       "    }\n",
       "\n",
       "    .dataframe tbody tr th {\n",
       "        vertical-align: top;\n",
       "    }\n",
       "\n",
       "    .dataframe thead th {\n",
       "        text-align: right;\n",
       "    }\n",
       "</style>\n",
       "<table border=\"1\" class=\"dataframe\">\n",
       "  <thead>\n",
       "    <tr style=\"text-align: right;\">\n",
       "      <th></th>\n",
       "      <th>index</th>\n",
       "      <th>D_10_R1</th>\n",
       "      <th>D_10_R2</th>\n",
       "      <th>D_10_R3</th>\n",
       "      <th>D_18_R1</th>\n",
       "      <th>D_18_R2</th>\n",
       "      <th>D_18_R3_T1</th>\n",
       "      <th>D_18_R3</th>\n",
       "      <th>D_18_R4</th>\n",
       "      <th>D_25_R1</th>\n",
       "      <th>...</th>\n",
       "      <th>L_25_R1</th>\n",
       "      <th>L_25_R2</th>\n",
       "      <th>L_25_R3</th>\n",
       "      <th>L_34_R1</th>\n",
       "      <th>L_34_R2</th>\n",
       "      <th>L_34_R3</th>\n",
       "      <th>L_34_R4_T1</th>\n",
       "      <th>L_34_R4_T2</th>\n",
       "      <th>L_34_R4_T3</th>\n",
       "      <th>L_34_R4</th>\n",
       "    </tr>\n",
       "  </thead>\n",
       "  <tbody>\n",
       "    <tr>\n",
       "      <th>0</th>\n",
       "      <td>MED134_07389</td>\n",
       "      <td>12973</td>\n",
       "      <td>11426</td>\n",
       "      <td>13251</td>\n",
       "      <td>30624</td>\n",
       "      <td>30618</td>\n",
       "      <td>25566</td>\n",
       "      <td>41014</td>\n",
       "      <td>22449</td>\n",
       "      <td>53840</td>\n",
       "      <td>...</td>\n",
       "      <td>39444</td>\n",
       "      <td>41721</td>\n",
       "      <td>37020</td>\n",
       "      <td>39662</td>\n",
       "      <td>30983</td>\n",
       "      <td>27280</td>\n",
       "      <td>43105</td>\n",
       "      <td>44946</td>\n",
       "      <td>39311</td>\n",
       "      <td>57834</td>\n",
       "    </tr>\n",
       "    <tr>\n",
       "      <th>1</th>\n",
       "      <td>MED134_07384</td>\n",
       "      <td>1557</td>\n",
       "      <td>1555</td>\n",
       "      <td>1552</td>\n",
       "      <td>4160</td>\n",
       "      <td>4385</td>\n",
       "      <td>3383</td>\n",
       "      <td>5588</td>\n",
       "      <td>2940</td>\n",
       "      <td>7550</td>\n",
       "      <td>...</td>\n",
       "      <td>5419</td>\n",
       "      <td>5536</td>\n",
       "      <td>5318</td>\n",
       "      <td>5396</td>\n",
       "      <td>4751</td>\n",
       "      <td>4285</td>\n",
       "      <td>5108</td>\n",
       "      <td>4924</td>\n",
       "      <td>4503</td>\n",
       "      <td>7818</td>\n",
       "    </tr>\n",
       "    <tr>\n",
       "      <th>2</th>\n",
       "      <td>MED134_07379</td>\n",
       "      <td>3400</td>\n",
       "      <td>3319</td>\n",
       "      <td>3273</td>\n",
       "      <td>7218</td>\n",
       "      <td>7903</td>\n",
       "      <td>6315</td>\n",
       "      <td>9539</td>\n",
       "      <td>5040</td>\n",
       "      <td>13268</td>\n",
       "      <td>...</td>\n",
       "      <td>9089</td>\n",
       "      <td>9016</td>\n",
       "      <td>8529</td>\n",
       "      <td>10179</td>\n",
       "      <td>7617</td>\n",
       "      <td>7207</td>\n",
       "      <td>9484</td>\n",
       "      <td>8837</td>\n",
       "      <td>8743</td>\n",
       "      <td>13827</td>\n",
       "    </tr>\n",
       "    <tr>\n",
       "      <th>3</th>\n",
       "      <td>MED134_07374</td>\n",
       "      <td>1987</td>\n",
       "      <td>2124</td>\n",
       "      <td>1404</td>\n",
       "      <td>3509</td>\n",
       "      <td>3772</td>\n",
       "      <td>2846</td>\n",
       "      <td>4337</td>\n",
       "      <td>2602</td>\n",
       "      <td>4607</td>\n",
       "      <td>...</td>\n",
       "      <td>3586</td>\n",
       "      <td>3594</td>\n",
       "      <td>3488</td>\n",
       "      <td>4158</td>\n",
       "      <td>3096</td>\n",
       "      <td>2623</td>\n",
       "      <td>3818</td>\n",
       "      <td>3792</td>\n",
       "      <td>3538</td>\n",
       "      <td>5323</td>\n",
       "    </tr>\n",
       "    <tr>\n",
       "      <th>4</th>\n",
       "      <td>MED134_07369</td>\n",
       "      <td>2087</td>\n",
       "      <td>2010</td>\n",
       "      <td>2111</td>\n",
       "      <td>3774</td>\n",
       "      <td>3809</td>\n",
       "      <td>2921</td>\n",
       "      <td>4486</td>\n",
       "      <td>2901</td>\n",
       "      <td>4668</td>\n",
       "      <td>...</td>\n",
       "      <td>3705</td>\n",
       "      <td>4158</td>\n",
       "      <td>3760</td>\n",
       "      <td>5518</td>\n",
       "      <td>3563</td>\n",
       "      <td>2713</td>\n",
       "      <td>3679</td>\n",
       "      <td>3543</td>\n",
       "      <td>3356</td>\n",
       "      <td>5150</td>\n",
       "    </tr>\n",
       "  </tbody>\n",
       "</table>\n",
       "<p>5 rows × 34 columns</p>\n",
       "</div>"
      ],
      "text/plain": [
       "          index  D_10_R1  D_10_R2  D_10_R3  D_18_R1  D_18_R2  D_18_R3_T1  \\\n",
       "0  MED134_07389    12973    11426    13251    30624    30618       25566   \n",
       "1  MED134_07384     1557     1555     1552     4160     4385        3383   \n",
       "2  MED134_07379     3400     3319     3273     7218     7903        6315   \n",
       "3  MED134_07374     1987     2124     1404     3509     3772        2846   \n",
       "4  MED134_07369     2087     2010     2111     3774     3809        2921   \n",
       "\n",
       "   D_18_R3  D_18_R4  D_25_R1  ...  L_25_R1  L_25_R2  L_25_R3  L_34_R1  \\\n",
       "0    41014    22449    53840  ...    39444    41721    37020    39662   \n",
       "1     5588     2940     7550  ...     5419     5536     5318     5396   \n",
       "2     9539     5040    13268  ...     9089     9016     8529    10179   \n",
       "3     4337     2602     4607  ...     3586     3594     3488     4158   \n",
       "4     4486     2901     4668  ...     3705     4158     3760     5518   \n",
       "\n",
       "   L_34_R2  L_34_R3  L_34_R4_T1  L_34_R4_T2  L_34_R4_T3  L_34_R4  \n",
       "0    30983    27280       43105       44946       39311    57834  \n",
       "1     4751     4285        5108        4924        4503     7818  \n",
       "2     7617     7207        9484        8837        8743    13827  \n",
       "3     3096     2623        3818        3792        3538     5323  \n",
       "4     3563     2713        3679        3543        3356     5150  \n",
       "\n",
       "[5 rows x 34 columns]"
      ]
     },
     "execution_count": 179,
     "metadata": {},
     "output_type": "execute_result"
    }
   ],
   "source": [
    "# Removing genes with low read counts across samples\n",
    "min_count = 10\n",
    "counts = counts[(counts > min_count).all(1)]\n",
    "counts.reset_index(level=0, inplace=True)\n",
    "counts.head()"
   ]
  },
  {
   "cell_type": "code",
   "execution_count": 180,
   "id": "behavioral-pencil",
   "metadata": {},
   "outputs": [
    {
     "data": {
      "text/html": [
       "<div>\n",
       "<style scoped>\n",
       "    .dataframe tbody tr th:only-of-type {\n",
       "        vertical-align: middle;\n",
       "    }\n",
       "\n",
       "    .dataframe tbody tr th {\n",
       "        vertical-align: top;\n",
       "    }\n",
       "\n",
       "    .dataframe thead th {\n",
       "        text-align: right;\n",
       "    }\n",
       "</style>\n",
       "<table border=\"1\" class=\"dataframe\">\n",
       "  <thead>\n",
       "    <tr style=\"text-align: right;\">\n",
       "      <th></th>\n",
       "      <th>lighting</th>\n",
       "      <th>temperature</th>\n",
       "      <th>replicate</th>\n",
       "    </tr>\n",
       "  </thead>\n",
       "  <tbody>\n",
       "    <tr>\n",
       "      <th>D_10_R1</th>\n",
       "      <td>D</td>\n",
       "      <td>10</td>\n",
       "      <td>R1</td>\n",
       "    </tr>\n",
       "    <tr>\n",
       "      <th>D_10_R2</th>\n",
       "      <td>D</td>\n",
       "      <td>10</td>\n",
       "      <td>R2</td>\n",
       "    </tr>\n",
       "    <tr>\n",
       "      <th>D_10_R3</th>\n",
       "      <td>D</td>\n",
       "      <td>10</td>\n",
       "      <td>R3</td>\n",
       "    </tr>\n",
       "    <tr>\n",
       "      <th>D_18_R1</th>\n",
       "      <td>D</td>\n",
       "      <td>18</td>\n",
       "      <td>R1</td>\n",
       "    </tr>\n",
       "    <tr>\n",
       "      <th>D_18_R2</th>\n",
       "      <td>D</td>\n",
       "      <td>18</td>\n",
       "      <td>R2</td>\n",
       "    </tr>\n",
       "  </tbody>\n",
       "</table>\n",
       "</div>"
      ],
      "text/plain": [
       "        lighting temperature replicate\n",
       "D_10_R1        D          10        R1\n",
       "D_10_R2        D          10        R2\n",
       "D_10_R3        D          10        R3\n",
       "D_18_R1        D          18        R1\n",
       "D_18_R2        D          18        R2"
      ]
     },
     "execution_count": 180,
     "metadata": {},
     "output_type": "execute_result"
    }
   ],
   "source": [
    "meta = pd.DataFrame({\n",
    "    'lighting': [s[0] for s in conditions],\n",
    "    'temperature': [s[2:4] for s in conditions],\n",
    "    'replicate': [s[5:] for s in conditions]\n",
    "    }, index=conditions)\n",
    "meta.head()"
   ]
  },
  {
   "cell_type": "code",
   "execution_count": 263,
   "id": "coated-squad",
   "metadata": {},
   "outputs": [
    {
     "data": {
      "text/html": [
       "<div>\n",
       "<style scoped>\n",
       "    .dataframe tbody tr th:only-of-type {\n",
       "        vertical-align: middle;\n",
       "    }\n",
       "\n",
       "    .dataframe tbody tr th {\n",
       "        vertical-align: top;\n",
       "    }\n",
       "\n",
       "    .dataframe thead th {\n",
       "        text-align: right;\n",
       "    }\n",
       "</style>\n",
       "<table border=\"1\" class=\"dataframe\">\n",
       "  <thead>\n",
       "    <tr style=\"text-align: right;\">\n",
       "      <th></th>\n",
       "      <th>baseMean</th>\n",
       "      <th>log2FoldChange</th>\n",
       "      <th>lfcSE</th>\n",
       "      <th>stat</th>\n",
       "      <th>pvalue</th>\n",
       "      <th>padj</th>\n",
       "      <th>index</th>\n",
       "    </tr>\n",
       "  </thead>\n",
       "  <tbody>\n",
       "    <tr>\n",
       "      <th>MED134_07389</th>\n",
       "      <td>28703.140067</td>\n",
       "      <td>0.943521</td>\n",
       "      <td>0.075685</td>\n",
       "      <td>180.213823</td>\n",
       "      <td>7.930304e-39</td>\n",
       "      <td>3.610045e-38</td>\n",
       "      <td>MED134_07389</td>\n",
       "    </tr>\n",
       "    <tr>\n",
       "      <th>MED134_07384</th>\n",
       "      <td>3910.065668</td>\n",
       "      <td>1.131689</td>\n",
       "      <td>0.059654</td>\n",
       "      <td>400.655552</td>\n",
       "      <td>1.596459e-86</td>\n",
       "      <td>2.240494e-85</td>\n",
       "      <td>MED134_07384</td>\n",
       "    </tr>\n",
       "    <tr>\n",
       "      <th>MED134_07379</th>\n",
       "      <td>6943.980527</td>\n",
       "      <td>0.905642</td>\n",
       "      <td>0.044703</td>\n",
       "      <td>471.521169</td>\n",
       "      <td>7.080892e-102</td>\n",
       "      <td>1.273233e-100</td>\n",
       "      <td>MED134_07379</td>\n",
       "    </tr>\n",
       "    <tr>\n",
       "      <th>MED134_07374</th>\n",
       "      <td>2984.962379</td>\n",
       "      <td>0.366559</td>\n",
       "      <td>0.064449</td>\n",
       "      <td>51.038015</td>\n",
       "      <td>4.801699e-11</td>\n",
       "      <td>8.449227e-11</td>\n",
       "      <td>MED134_07374</td>\n",
       "    </tr>\n",
       "    <tr>\n",
       "      <th>MED134_07369</th>\n",
       "      <td>3263.281489</td>\n",
       "      <td>0.206131</td>\n",
       "      <td>0.085757</td>\n",
       "      <td>17.076457</td>\n",
       "      <td>6.816086e-04</td>\n",
       "      <td>8.204970e-04</td>\n",
       "      <td>MED134_07369</td>\n",
       "    </tr>\n",
       "  </tbody>\n",
       "</table>\n",
       "</div>"
      ],
      "text/plain": [
       "                  baseMean  log2FoldChange     lfcSE        stat  \\\n",
       "MED134_07389  28703.140067        0.943521  0.075685  180.213823   \n",
       "MED134_07384   3910.065668        1.131689  0.059654  400.655552   \n",
       "MED134_07379   6943.980527        0.905642  0.044703  471.521169   \n",
       "MED134_07374   2984.962379        0.366559  0.064449   51.038015   \n",
       "MED134_07369   3263.281489        0.206131  0.085757   17.076457   \n",
       "\n",
       "                     pvalue           padj         index  \n",
       "MED134_07389   7.930304e-39   3.610045e-38  MED134_07389  \n",
       "MED134_07384   1.596459e-86   2.240494e-85  MED134_07384  \n",
       "MED134_07379  7.080892e-102  1.273233e-100  MED134_07379  \n",
       "MED134_07374   4.801699e-11   8.449227e-11  MED134_07374  \n",
       "MED134_07369   6.816086e-04   8.204970e-04  MED134_07369  "
      ]
     },
     "execution_count": 263,
     "metadata": {},
     "output_type": "execute_result"
    }
   ],
   "source": [
    "p_value_cutoff = 5e-2\n",
    "\n",
    "dds = py_DESeq2(count_matrix = counts,\n",
    "               design_matrix = meta,\n",
    "               design_formula = '~ temperature',\n",
    "               gene_column = 'index')\n",
    "    \n",
    "dds.run_deseq(test=\"LRT\", reduced = Formula('~ 1')) \n",
    "dds.get_deseq_result(alpha=p_value_cutoff)\n",
    "res = dds.deseq_result \n",
    "res = res[res.padj < p_value_cutoff]\n",
    "res.head()"
   ]
  },
  {
   "cell_type": "code",
   "execution_count": 188,
   "id": "american-regulation",
   "metadata": {},
   "outputs": [],
   "source": [
    "neg_corr_genes = res[res.log2FoldChange < -1].index.tolist()\n",
    "pos_corr_genes = res[res.log2FoldChange > 1].index.tolist()"
   ]
  },
  {
   "cell_type": "code",
   "execution_count": 11,
   "id": "powerful-transcript",
   "metadata": {},
   "outputs": [],
   "source": [
    "# dds.result_summary()"
   ]
  },
  {
   "cell_type": "markdown",
   "id": "favorite-investment",
   "metadata": {},
   "source": [
    "## Taking a look at selected genes with high log2 fold change"
   ]
  },
  {
   "cell_type": "code",
   "execution_count": 183,
   "id": "unavailable-preliminary",
   "metadata": {},
   "outputs": [
    {
     "data": {
      "text/html": [
       "<div>\n",
       "<style scoped>\n",
       "    .dataframe tbody tr th:only-of-type {\n",
       "        vertical-align: middle;\n",
       "    }\n",
       "\n",
       "    .dataframe tbody tr th {\n",
       "        vertical-align: top;\n",
       "    }\n",
       "\n",
       "    .dataframe thead th {\n",
       "        text-align: right;\n",
       "    }\n",
       "</style>\n",
       "<table border=\"1\" class=\"dataframe\">\n",
       "  <thead>\n",
       "    <tr style=\"text-align: right;\">\n",
       "      <th></th>\n",
       "      <th>D_10_R1.sam</th>\n",
       "      <th>D_10_R2.sam</th>\n",
       "      <th>D_10_R3.sam</th>\n",
       "      <th>D_18_R1.sam</th>\n",
       "      <th>D_18_R2.sam</th>\n",
       "      <th>D_18_R3_T1.sam</th>\n",
       "      <th>D_18_R3.sam</th>\n",
       "      <th>D_18_R4.sam</th>\n",
       "      <th>D_25_R1.sam</th>\n",
       "      <th>D_25_R2.sam</th>\n",
       "      <th>...</th>\n",
       "      <th>L_25_R1.sam</th>\n",
       "      <th>L_25_R2.sam</th>\n",
       "      <th>L_25_R3.sam</th>\n",
       "      <th>L_34_R1.sam</th>\n",
       "      <th>L_34_R2.sam</th>\n",
       "      <th>L_34_R3.sam</th>\n",
       "      <th>L_34_R4_T1.sam</th>\n",
       "      <th>L_34_R4_T2.sam</th>\n",
       "      <th>L_34_R4_T3.sam</th>\n",
       "      <th>L_34_R4.sam</th>\n",
       "    </tr>\n",
       "  </thead>\n",
       "  <tbody>\n",
       "    <tr>\n",
       "      <th>MED134_07389</th>\n",
       "      <td>126.651810</td>\n",
       "      <td>103.199290</td>\n",
       "      <td>132.954350</td>\n",
       "      <td>207.076817</td>\n",
       "      <td>186.093462</td>\n",
       "      <td>230.692835</td>\n",
       "      <td>232.104483</td>\n",
       "      <td>217.039083</td>\n",
       "      <td>319.508620</td>\n",
       "      <td>287.121249</td>\n",
       "      <td>...</td>\n",
       "      <td>309.890336</td>\n",
       "      <td>332.917481</td>\n",
       "      <td>319.950739</td>\n",
       "      <td>279.889139</td>\n",
       "      <td>329.788952</td>\n",
       "      <td>298.880372</td>\n",
       "      <td>360.335351</td>\n",
       "      <td>386.297760</td>\n",
       "      <td>364.639362</td>\n",
       "      <td>342.590660</td>\n",
       "    </tr>\n",
       "    <tr>\n",
       "      <th>MED134_07384</th>\n",
       "      <td>93.133592</td>\n",
       "      <td>86.051736</td>\n",
       "      <td>95.409665</td>\n",
       "      <td>172.349350</td>\n",
       "      <td>163.294159</td>\n",
       "      <td>187.033790</td>\n",
       "      <td>193.755730</td>\n",
       "      <td>174.154632</td>\n",
       "      <td>274.518258</td>\n",
       "      <td>245.054704</td>\n",
       "      <td>...</td>\n",
       "      <td>260.851290</td>\n",
       "      <td>270.660405</td>\n",
       "      <td>281.605927</td>\n",
       "      <td>233.308269</td>\n",
       "      <td>309.844950</td>\n",
       "      <td>287.640881</td>\n",
       "      <td>261.623569</td>\n",
       "      <td>259.296074</td>\n",
       "      <td>255.916424</td>\n",
       "      <td>283.749242</td>\n",
       "    </tr>\n",
       "    <tr>\n",
       "      <th>MED134_07379</th>\n",
       "      <td>98.558447</td>\n",
       "      <td>89.008953</td>\n",
       "      <td>97.508810</td>\n",
       "      <td>144.920691</td>\n",
       "      <td>142.623218</td>\n",
       "      <td>169.195430</td>\n",
       "      <td>160.286964</td>\n",
       "      <td>144.682310</td>\n",
       "      <td>233.790545</td>\n",
       "      <td>199.430055</td>\n",
       "      <td>...</td>\n",
       "      <td>212.025033</td>\n",
       "      <td>213.618935</td>\n",
       "      <td>218.871276</td>\n",
       "      <td>213.285093</td>\n",
       "      <td>240.735725</td>\n",
       "      <td>234.450684</td>\n",
       "      <td>235.404478</td>\n",
       "      <td>225.517345</td>\n",
       "      <td>240.798561</td>\n",
       "      <td>243.200355</td>\n",
       "    </tr>\n",
       "    <tr>\n",
       "      <th>MED134_07374</th>\n",
       "      <td>216.411361</td>\n",
       "      <td>214.016968</td>\n",
       "      <td>157.156450</td>\n",
       "      <td>264.706216</td>\n",
       "      <td>255.762687</td>\n",
       "      <td>286.495249</td>\n",
       "      <td>273.811718</td>\n",
       "      <td>280.646379</td>\n",
       "      <td>305.004991</td>\n",
       "      <td>328.141969</td>\n",
       "      <td>...</td>\n",
       "      <td>314.303035</td>\n",
       "      <td>319.941937</td>\n",
       "      <td>336.305821</td>\n",
       "      <td>327.346067</td>\n",
       "      <td>367.641724</td>\n",
       "      <td>320.599267</td>\n",
       "      <td>356.062594</td>\n",
       "      <td>363.588951</td>\n",
       "      <td>366.115816</td>\n",
       "      <td>351.770941</td>\n",
       "    </tr>\n",
       "    <tr>\n",
       "      <th>MED134_07369</th>\n",
       "      <td>287.031906</td>\n",
       "      <td>255.749791</td>\n",
       "      <td>298.386295</td>\n",
       "      <td>359.507705</td>\n",
       "      <td>326.138456</td>\n",
       "      <td>371.312544</td>\n",
       "      <td>357.641093</td>\n",
       "      <td>395.116727</td>\n",
       "      <td>390.251982</td>\n",
       "      <td>431.863528</td>\n",
       "      <td>...</td>\n",
       "      <td>410.064372</td>\n",
       "      <td>467.415509</td>\n",
       "      <td>457.795258</td>\n",
       "      <td>548.567247</td>\n",
       "      <td>534.275427</td>\n",
       "      <td>418.735291</td>\n",
       "      <td>433.257163</td>\n",
       "      <td>428.981967</td>\n",
       "      <td>438.538927</td>\n",
       "      <td>429.770161</td>\n",
       "    </tr>\n",
       "  </tbody>\n",
       "</table>\n",
       "<p>5 rows × 33 columns</p>\n",
       "</div>"
      ],
      "text/plain": [
       "              D_10_R1.sam  D_10_R2.sam  D_10_R3.sam  D_18_R1.sam  D_18_R2.sam  \\\n",
       "MED134_07389   126.651810   103.199290   132.954350   207.076817   186.093462   \n",
       "MED134_07384    93.133592    86.051736    95.409665   172.349350   163.294159   \n",
       "MED134_07379    98.558447    89.008953    97.508810   144.920691   142.623218   \n",
       "MED134_07374   216.411361   214.016968   157.156450   264.706216   255.762687   \n",
       "MED134_07369   287.031906   255.749791   298.386295   359.507705   326.138456   \n",
       "\n",
       "              D_18_R3_T1.sam  D_18_R3.sam  D_18_R4.sam  D_25_R1.sam  \\\n",
       "MED134_07389      230.692835   232.104483   217.039083   319.508620   \n",
       "MED134_07384      187.033790   193.755730   174.154632   274.518258   \n",
       "MED134_07379      169.195430   160.286964   144.682310   233.790545   \n",
       "MED134_07374      286.495249   273.811718   280.646379   305.004991   \n",
       "MED134_07369      371.312544   357.641093   395.116727   390.251982   \n",
       "\n",
       "              D_25_R2.sam  ...  L_25_R1.sam  L_25_R2.sam  L_25_R3.sam  \\\n",
       "MED134_07389   287.121249  ...   309.890336   332.917481   319.950739   \n",
       "MED134_07384   245.054704  ...   260.851290   270.660405   281.605927   \n",
       "MED134_07379   199.430055  ...   212.025033   213.618935   218.871276   \n",
       "MED134_07374   328.141969  ...   314.303035   319.941937   336.305821   \n",
       "MED134_07369   431.863528  ...   410.064372   467.415509   457.795258   \n",
       "\n",
       "              L_34_R1.sam  L_34_R2.sam  L_34_R3.sam  L_34_R4_T1.sam  \\\n",
       "MED134_07389   279.889139   329.788952   298.880372      360.335351   \n",
       "MED134_07384   233.308269   309.844950   287.640881      261.623569   \n",
       "MED134_07379   213.285093   240.735725   234.450684      235.404478   \n",
       "MED134_07374   327.346067   367.641724   320.599267      356.062594   \n",
       "MED134_07369   548.567247   534.275427   418.735291      433.257163   \n",
       "\n",
       "              L_34_R4_T2.sam  L_34_R4_T3.sam  L_34_R4.sam  \n",
       "MED134_07389      386.297760      364.639362   342.590660  \n",
       "MED134_07384      259.296074      255.916424   283.749242  \n",
       "MED134_07379      225.517345      240.798561   243.200355  \n",
       "MED134_07374      363.588951      366.115816   351.770941  \n",
       "MED134_07369      428.981967      438.538927   429.770161  \n",
       "\n",
       "[5 rows x 33 columns]"
      ]
     },
     "execution_count": 183,
     "metadata": {},
     "output_type": "execute_result"
    }
   ],
   "source": [
    "tpm = pd.read_csv('Data/tpm_counts.csv', index_col=0)\n",
    "tpm.head()"
   ]
  },
  {
   "cell_type": "code",
   "execution_count": 184,
   "id": "opening-bidding",
   "metadata": {},
   "outputs": [
    {
     "name": "stdout",
     "output_type": "stream",
     "text": [
      "Evaluating gene: MED134_08511\n"
     ]
    },
    {
     "data": {
      "image/png": "[encoded data removed]",
      "text/plain": [
       "<Figure size 1080x720 with 1 Axes>"
      ]
     },
     "metadata": {
      "needs_background": "light"
     },
     "output_type": "display_data"
    }
   ],
   "source": [
    "gene_id = pos_corr_genes[30]\n",
    "print(f'Evaluating gene: {gene_id}')\n",
    "ax = tpm.loc[gene_id].plot(legend=False, figsize=(15, 10), title=gene_id)"
   ]
  },
  {
   "cell_type": "code",
   "execution_count": 52,
   "id": "english-steering",
   "metadata": {},
   "outputs": [
    {
     "name": "stdout",
     "output_type": "stream",
     "text": [
      "Evaluating gene: MED134_05724\n"
     ]
    },
    {
     "data": {
      "image/png": "[encoded data removed]",
      "text/plain": [
       "<Figure size 1080x720 with 1 Axes>"
      ]
     },
     "metadata": {
      "needs_background": "light"
     },
     "output_type": "display_data"
    }
   ],
   "source": [
    "gene_id = neg_corr_genes[5]\n",
    "print(f'Evaluating gene: {gene_id}')\n",
    "ax = tpm.loc[gene_id].plot(legend=False, figsize=(15, 10), title=gene_id)"
   ]
  },
  {
   "cell_type": "markdown",
   "id": "nutritional-overhead",
   "metadata": {},
   "source": [
    "## Parse GBK file"
   ]
  },
  {
   "cell_type": "code",
   "execution_count": 257,
   "id": "legitimate-barrel",
   "metadata": {},
   "outputs": [],
   "source": [
    "from Bio import SeqIO\n",
    "\n",
    "class GenomeGBK:\n",
    "\n",
    "    def __init__(self, path_to_gbk):\n",
    "        self._gbk = list(SeqIO.parse(path_to_gbk, 'genbank'))[0]\n",
    "    \n",
    "    @property\n",
    "    def meta(self):\n",
    "        return dict(self._gbk.features[0].qualifiers)\n",
    "    \n",
    "    def getGeneInfo(self, gene_id: str):\n",
    "        try:\n",
    "            gene, cds = [f for f in self._gbk.features[1:] if gene_id.lower() in f.qualifiers['locus_tag'][0].lower()]\n",
    "            res = dict(cds.qualifiers); res.update({'location': gene.location})\n",
    "            return res\n",
    "        except Exception:\n",
    "            raise ValueError(f'Gene {gene_id} not found in GBK') \n",
    "    \n",
    "    def has_EC_number(self, gene_id: str):\n",
    "        return 'EC_number' in self.getGeneInfo(gene_id).keys()\n",
    "    \n",
    "    def getEnzymeGene(self, ec_number: str):\n",
    "        try:\n",
    "            return [f.qualifiers['locus_tag'][0] for f in self._gbk.features[1:] if ('EC_number' in f.qualifiers.keys() \n",
    "                                                                                      and ec_number in f.qualifiers['EC_number'][0])]\n",
    "        except Exception:\n",
    "             raise ValueError(f'Enzyme {ec_number} not found in GBK') "
   ]
  },
  {
   "cell_type": "code",
   "execution_count": 258,
   "id": "intelligent-electron",
   "metadata": {},
   "outputs": [
    {
     "data": {
      "text/plain": [
       "{'organism': ['Dokdonia sp. MED134'],\n",
       " 'mol_type': ['genomic DNA'],\n",
       " 'strain': ['MED134'],\n",
       " 'isolation_source': ['collected at a depth of 1 meter; isolated by plating on solid media'],\n",
       " 'db_xref': ['taxon:313590'],\n",
       " 'country': ['Mediterranean Sea']}"
      ]
     },
     "execution_count": 258,
     "metadata": {},
     "output_type": "execute_result"
    }
   ],
   "source": [
    "gbk = GenomeGBK('Data/DokdoniaMED134.gbk')\n",
    "gbk.meta"
   ]
  },
  {
   "cell_type": "code",
   "execution_count": 255,
   "id": "civic-qualification",
   "metadata": {},
   "outputs": [
    {
     "data": {
      "text/plain": [
       "{'locus_tag': ['MED134_07089'],\n",
       " 'EC_number': ['4.6.1.1'],\n",
       " 'codon_start': ['1'],\n",
       " 'transl_table': ['11'],\n",
       " 'product': ['sensor of blue-light using FAD'],\n",
       " 'protein_id': ['EAQ40501.1'],\n",
       " 'translation': ['MYTICYLSKVSPHLTETQIQEIFDHTYAQNNKKGICGILLHTMGNFFQVLEGDEAYLTDLYENRIKKDPRHHSIFEVIHKEGSDPVFTSYSSRFLTIEDSDALNDIKTYVKKHAVVSSTSDKIARLLNTVEMLTY'],\n",
       " 'location': FeatureLocation(ExactPosition(67655), ExactPosition(68063), strand=-1)}"
      ]
     },
     "execution_count": 255,
     "metadata": {},
     "output_type": "execute_result"
    }
   ],
   "source": [
    "gene_id = 'MED134_07089' # THe EC corresponds to adenylate cyclase... however protein EAQ40501.1 has no annotation \n",
    "gbk.getGeneInfo(gene_id)"
   ]
  },
  {
   "cell_type": "code",
   "execution_count": 260,
   "id": "appointed-above",
   "metadata": {},
   "outputs": [
    {
     "data": {
      "text/plain": [
       "['MED134_09046']"
      ]
     },
     "execution_count": 260,
     "metadata": {},
     "output_type": "execute_result"
    }
   ],
   "source": [
    "# Trying out ec finder\n",
    "gbk.getEnzymeGene('2.7.1.40')"
   ]
  },
  {
   "cell_type": "code",
   "execution_count": 261,
   "id": "engaged-aquarium",
   "metadata": {},
   "outputs": [
    {
     "name": "stdout",
     "output_type": "stream",
     "text": [
      "Evaluating gene: MED134_09046\n"
     ]
    },
    {
     "data": {
      "image/png": "[encoded data removed]",
      "text/plain": [
       "<Figure size 1080x720 with 1 Axes>"
      ]
     },
     "metadata": {
      "needs_background": "light"
     },
     "output_type": "display_data"
    }
   ],
   "source": [
    "gene_id = gbk.getEnzymeGene('2.7.1.40')[0]\n",
    "print(f'Evaluating gene: {gene_id}')\n",
    "ax = tpm.loc[gene_id].plot(legend=False, figsize=(15, 10), title=gene_id)"
   ]
  },
  {
   "cell_type": "code",
   "execution_count": 265,
   "id": "assisted-status",
   "metadata": {},
   "outputs": [],
   "source": [
    "res[gene_id] # Weird that this one is not among DE... perhaps because only comparing 34 vs 10 degress..."
   ]
  },
  {
   "cell_type": "markdown",
   "id": "terminal-accident",
   "metadata": {},
   "source": [
    "## Finding metabolic genes (EC number) among DE"
   ]
  },
  {
   "cell_type": "code",
   "execution_count": 191,
   "id": "green-oasis",
   "metadata": {},
   "outputs": [
    {
     "name": "stdout",
     "output_type": "stream",
     "text": [
      "There are: 22 positive genes with EC and 42 negative\n"
     ]
    }
   ],
   "source": [
    "met_pos_genes = [gene_id for gene_id in pos_corr_genes if gbk.has_EC_number(gene_id)]\n",
    "met_neg_genes = [gene_id for gene_id in neg_corr_genes if gbk.has_EC_number(gene_id)]\n",
    "print(f'There are: {len(met_pos_genes)} positive genes with EC and {len(met_neg_genes)} negative')"
   ]
  },
  {
   "cell_type": "code",
   "execution_count": 194,
   "id": "steady-catholic",
   "metadata": {},
   "outputs": [
    {
     "name": "stdout",
     "output_type": "stream",
     "text": [
      "['6-phosphofructokinase', 'glyceraldehyde-3-phosphate dehydrogenase A', 'phosphoribosylformylglycinamidine synthase', 'imidazole glycerol phosphate synthase subunit HisF', 'methylmalonyl-CoA mutase', 'glutamate-ammonia ligase', 'propionyl-CoA carboxylase beta chain', 'two-component system sensor histidine kinase', 'DNA-directed RNA polymerase beta chain', 'prephenate dehydratase', 'tRNA-guanine transglycosylase', 'NADH dehydrogenase', 'O-acetylhomoserineaminocarboxypropyltransferase', 'inorganic pyrophosphatase', 'ATP-dependent Clp protease proteolytic subunit', 'FKBP-type peptidyl-prolyl cis-transisomerase', 'glycogen synthase', 'ribose-phosphate pyrophosphokinase', '3-oxoacid CoA-transferase, B subunit', '3-oxoacid CoA-transferase, A subunit', 'pyruvate kinase', 'amidophosphoribosyltransferase', 'choline dehydrogenase', 'glutamate dehydrogenase', 'sulfate permease', 'saccharopine dehydrogenase (NADP+, L-glutamate forming)', 'crossover junction endodeoxyribonuclease RuvC', 'oxygen-independent coproporphyrinogen III oxidase, putative', 'uroporphyrinogen-III synthase', 'lysyl-tRNA synthetase', 'argininosuccinate synthase', 'N-acetyl-gamma-glutamyl-phosphate reductase', 'pyrroline-5-carboxylate reductase', 'acetylornithine aminotransferase', 'ornithine carbamoyltransferase', 'acetylglutamate kinase', 'acetylornithine deacetylase', 'argininosuccinate lyase', 'adenylate kinase', 'IMP dehydrogenase', '8-amino-7-oxononanoate synthase', 'sulfate permease']\n"
     ]
    }
   ],
   "source": [
    "# Which enzymes are negatively correlated with temperature?\n",
    "print([gbk.getGeneInfo(gene_id)['product'][0] for gene_id in met_neg_genes])"
   ]
  },
  {
   "cell_type": "code",
   "execution_count": 195,
   "id": "demographic-louisville",
   "metadata": {},
   "outputs": [
    {
     "name": "stdout",
     "output_type": "stream",
     "text": [
      "['sensor of blue-light using FAD', 'oligo-1,6-glucosidase', 'hydroxymethylglutaryl-CoA lyase', 'pyruvate carboxylase', 'glyceraldehyde-3-phosphate dehydrogenase A', 'isocitrate lyase', 'malate synthase', 'two-component system sensor histidine kinase', 'Asp/Glu/hydantoin racemase', 'D-amino acid dehydrogenase small subunit', 'proline racemase', 'catalase/peroxidase HPI', 'peptide-methionine (S)-S-oxide reductase', 'phosphoenolpyruvate carboxykinase (ATP)', '2-dehydro-3-deoxygluconokinase', 'alginate lyase precursor', 'alginate lyase', 'ribonuclease HII', 'pyrimidine operon attenuation protein / uracil phosphoribosyltransferase', 'two-component system sensor histidine kinase', 'sulfate adenylyltransferase subunit 2', 'sulfate adenylyltransferase subunit 1']\n"
     ]
    }
   ],
   "source": [
    "# Which enzymes are positively correlated with temperature?\n",
    "print([gbk.getGeneInfo(gene_id)['product'][0] for gene_id in met_pos_genes])"
   ]
  },
  {
   "cell_type": "markdown",
   "id": "advance-craft",
   "metadata": {},
   "source": [
    "## Connecting expression to metabolism\n",
    "* Identify genes coding for enzymes\n",
    "* Get thermodynamic information for the reaction (equilibrator)\n",
    "These would give an idea of which reactions may be happening as well as the direction of flow"
   ]
  },
  {
   "cell_type": "markdown",
   "id": "endangered-wisdom",
   "metadata": {},
   "source": [
    "# Notes on possible errors in annotation\n",
    "1. MED134_07089: The EC number corresponds to [adenylate cyclase](https://www.brenda-enzymes.org/enzyme.php?ecno=4.6.1.1) however protein [EAQ40501.1](https://string-db.org/network/313590.MED134_07089) isn't annotated, and the product description is \"sensor of blue light using FAD\". After searching for EC number ('4.6.1.1') I found another gene: MED134_03369, which seems to be the true adenylate cyclase!."
   ]
  }
 ],
 "metadata": {
  "kernelspec": {
   "display_name": "Python 3",
   "language": "python",
   "name": "python3"
  },
  "language_info": {
   "codemirror_mode": {
    "name": "ipython",
    "version": 3
   },
   "file_extension": ".py",
   "mimetype": "text/x-python",
   "name": "python",
   "nbconvert_exporter": "python",
   "pygments_lexer": "ipython3",
   "version": "3.8.5"
  }
 },
 "nbformat": 4,
 "nbformat_minor": 5
}
